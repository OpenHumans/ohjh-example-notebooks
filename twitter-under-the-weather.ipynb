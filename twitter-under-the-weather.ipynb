{
 "cells": [
  {
   "cell_type": "markdown",
   "metadata": {},
   "source": [
    "# How does the weather influence my Social Media behavior?\n",
    "Mental well-being might well be tied to the weather, e.g. you might be feeling blue after days of rain without a break. Similarly, your social media behaviour might be tied to the weather. E.g. you might post less if you're outside enjoying the sun. Or you might post more up-beat posts when the weather's nice. \n",
    "\n",
    "This notebook brings together the data from your Twitter archive and your GPS data from Moves to correlate your Twitter and Weather data. \n",
    "\n",
    "For this notebook to work you need to have both the [Twitter Archive Analyser](https://www.openhumans.org/activity/twitter-archive-analyzer/) and the [Moves connection](https://www.openhumans.org/activity/moves-connection/) added to your *Open Humans* account and already need to have this data available in your account (i.e. you need to have uploaded your Twitter archive on the Twitter archive analyser site and need to have connected your Moves account to your Open Humans account).\n",
    "\n",
    "The weather data comes from *Dark Sky* and their API. You will need a `DARKSKY_KEY` for their API to use this notebook. You can [create one for free on their website](https://darksky.net/dev). Dark Sky allows you to make 1,000 calls per day for free. This notebook makes at worst 1 call for each day that is in your `DATARANGE`. So the 1,000 calls can get you ~ 2 1/2 years of local weather data. Once you have made an account you can enter you `DARKSKY_KEY` in the cell below. \n",
    "\n",
    "The `DATARANGE_START` and `DATARANGE_END` give the boundaries for which your analysis should be run (in `YYYY-MM-DD` format). Choose the values so that you have some *Moves* data between those boundaries and also that you're not requesting too much data from *Dark Sky* (or pay for requesting more data from *dark sky*, after the first 1,000 calls each day of weather data will be USD 0.0001).\n",
    "\n",
    "You might consider paying for additional API calls to *Dark Sky* as it's rather cheap: Making 10,000 calls costs US $1.00 and you can [set up daily usage limits](https://darksky.net/dev/account/edit) to make sure you don't accumulate too much costs."
   ]
  },
  {
   "cell_type": "code",
   "execution_count": 1,
   "metadata": {},
   "outputs": [],
   "source": [
    "DARKSKY_KEY = 'ENTER_YOUR_KEY'\n",
    "DATARANGE_START = \"2016-06-01\"\n",
    "DATARANGE_END = \"2018-05-08\""
   ]
  },
  {
   "cell_type": "markdown",
   "metadata": {},
   "source": [
    "Let's load our dependencies for getting & analysing the *Moves* and *Twitter Archive* data"
   ]
  },
  {
   "cell_type": "code",
   "execution_count": 2,
   "metadata": {},
   "outputs": [],
   "source": [
    "import os\n",
    "import json\n",
    "import requests\n",
    "from datetime import datetime\n",
    "from collections import defaultdict\n",
    "import pandas as pd\n",
    "import numpy as np\n",
    "import seaborn as sns\n",
    "import matplotlib.pyplot as plt\n",
    "import tempfile\n",
    "import zipfile\n",
    "import pytz\n",
    "import io\n",
    "import sys\n",
    "from textblob import TextBlob\n",
    "import emoji\n",
    "\n",
    "\n",
    "# sets the axis label sizes for seaborn\n",
    "rc={'font.size': 14, 'axes.labelsize': 14, 'legend.fontsize': 14.0, \n",
    "    'axes.titlesize': 14, 'xtick.labelsize': 14, 'ytick.labelsize': 14}\n",
    "sns.set(rc=rc)"
   ]
  },
  {
   "cell_type": "markdown",
   "metadata": {},
   "source": [
    "## Processing the Twitter archive data\n",
    "All the functions are already provided by http://twarxiv.org and we just copied the functions from there. It will basically take a zipped archive from a URL and return a nicely formatted `pandas` dataframe. Let's just take these as given for now:"
   ]
  },
  {
   "cell_type": "code",
   "execution_count": 3,
   "metadata": {},
   "outputs": [],
   "source": [
    "# THIS CODE BELOW IS COPIED FROM TWARXIV.ORG AS IT ALREADY DOES EXACTLY WHAT WE WANT FOR READING IN THE DATA\n",
    "\n",
    "# READ JSON FILES FROM TWITTER ARCHIVE!\n",
    "\n",
    "def check_hashtag(single_tweet):\n",
    "    '''check whether tweet has any hashtags'''\n",
    "    return len(single_tweet['entities']['hashtags']) > 0\n",
    "\n",
    "\n",
    "def check_media(single_tweet):\n",
    "    '''check whether tweet has any media attached'''\n",
    "    return len(single_tweet['entities']['media']) > 0\n",
    "\n",
    "\n",
    "def check_url(single_tweet):\n",
    "    '''check whether tweet has any urls attached'''\n",
    "    return len(single_tweet['entities']['urls']) > 0\n",
    "\n",
    "\n",
    "def check_retweet(single_tweet):\n",
    "    '''\n",
    "    check whether tweet is a RT. If yes:\n",
    "    return name & user name of the RT'd user.\n",
    "    otherwise just return nones\n",
    "    '''\n",
    "    if 'retweeted_status' in single_tweet.keys():\n",
    "        return (single_tweet['retweeted_status']['user']['screen_name'],\n",
    "                single_tweet['retweeted_status']['user']['name'])\n",
    "    else:\n",
    "        return (None, None)\n",
    "\n",
    "\n",
    "def check_coordinates(single_tweet):\n",
    "    '''\n",
    "    check whether tweet has coordinates attached.\n",
    "    if yes return the coordinates\n",
    "    otherwise just return nones\n",
    "    '''\n",
    "    if 'coordinates' in single_tweet['geo'].keys():\n",
    "        return (single_tweet['geo']['coordinates'][0],\n",
    "                single_tweet['geo']['coordinates'][1])\n",
    "    else:\n",
    "        return (None, None)\n",
    "\n",
    "\n",
    "def check_reply_to(single_tweet):\n",
    "    '''\n",
    "    check whether tweet is a reply. If yes:\n",
    "    return name & user name of the user that's replied to.\n",
    "    otherwise just return nones\n",
    "    '''\n",
    "    if 'in_reply_to_screen_name' in single_tweet.keys():\n",
    "        name = None\n",
    "        for user in single_tweet['entities']['user_mentions']:\n",
    "            if user['screen_name'] == single_tweet['in_reply_to_screen_name']:\n",
    "                name = user['name']\n",
    "                break\n",
    "        return (single_tweet['in_reply_to_screen_name'], name)\n",
    "    else:\n",
    "        return (None, None)\n",
    "\n",
    "\n",
    "def create_dataframe(tweets):\n",
    "    '''\n",
    "    create a pandas dataframe from our tweet jsons\n",
    "    '''\n",
    "\n",
    "    # initalize empty lists\n",
    "    utc_time = []\n",
    "    longitude = []\n",
    "    latitude = []\n",
    "    hashtag = []\n",
    "    media = []\n",
    "    url = []\n",
    "    retweet_user_name = []\n",
    "    retweet_name = []\n",
    "    reply_user_name = []\n",
    "    reply_name = []\n",
    "    text = []\n",
    "    # iterate over all tweets and extract data\n",
    "    for single_tweet in tweets:\n",
    "        utc_time.append(datetime.strptime(single_tweet['created_at'],\n",
    "                                                   '%Y-%m-%d %H:%M:%S %z'))\n",
    "        coordinates = check_coordinates(single_tweet)\n",
    "        latitude.append(coordinates[0])\n",
    "        longitude.append(coordinates[1])\n",
    "        hashtag.append(check_hashtag(single_tweet))\n",
    "        media.append(check_media(single_tweet))\n",
    "        url.append(check_url(single_tweet))\n",
    "        retweet = check_retweet(single_tweet)\n",
    "        retweet_user_name.append(retweet[0])\n",
    "        retweet_name.append(retweet[1])\n",
    "        reply = check_reply_to(single_tweet)\n",
    "        reply_user_name.append(reply[0])\n",
    "        reply_name.append(reply[1])\n",
    "        text.append(single_tweet['text'])\n",
    "    # convert the whole shebang into a pandas dataframe\n",
    "    dataframe = pd.DataFrame(data={\n",
    "                            'utc_time': utc_time,\n",
    "                            'latitude': latitude,\n",
    "                            'longitude': longitude,\n",
    "                            'hashtag': hashtag,\n",
    "                            'media': media,\n",
    "                            'url': url,\n",
    "                            'retweet_user_name': retweet_user_name,\n",
    "                            'retweet_name': retweet_name,\n",
    "                            'reply_user_name': reply_user_name,\n",
    "                            'reply_name': reply_name,\n",
    "                            'text': text\n",
    "    })\n",
    "    return dataframe\n",
    "\n",
    "\n",
    "def read_files(zip_url):\n",
    "    tf = tempfile.NamedTemporaryFile()\n",
    "    print('downloading files')\n",
    "    tf.write(requests.get(zip_url).content)\n",
    "    tf.flush()\n",
    "    zf = zipfile.ZipFile(tf.name)\n",
    "    print('reading index')\n",
    "    with zf.open('data/js/tweet_index.js', 'r') as f:\n",
    "        f = io.TextIOWrapper(f)\n",
    "        d = f.readlines()[1:]\n",
    "        d = \"[{\" + \"\".join(d)\n",
    "        json_files = json.loads(d)\n",
    "    data_frames = []\n",
    "    print('iterate over individual files')\n",
    "    for single_file in json_files:\n",
    "        print('read ' + single_file['file_name'])\n",
    "        with zf.open(single_file['file_name']) as f:\n",
    "            f = io.TextIOWrapper(f)\n",
    "            d = f.readlines()[1:]\n",
    "            d = \"\".join(d)\n",
    "            tweets = json.loads(d)\n",
    "            df_tweets = create_dataframe(tweets)\n",
    "            data_frames.append(df_tweets)\n",
    "    return data_frames\n",
    "\n",
    "\n",
    "def create_main_dataframe(zip_url='http://ruleofthirds.de/test_archive.zip'):\n",
    "    print('reading files')\n",
    "    dataframes = read_files(zip_url)\n",
    "    print('concatenating...')\n",
    "    dataframe = pd.concat(dataframes)\n",
    "    dataframe = dataframe.sort_values('utc_time', ascending=False)\n",
    "    dataframe = dataframe.set_index('utc_time')\n",
    "    dataframe = dataframe.replace(to_replace={\n",
    "                                    'url': {False: None},\n",
    "                                    'hashtag': {False: None},\n",
    "                                    'media': {False: None}\n",
    "                                    })\n",
    "    return dataframe\n"
   ]
  },
  {
   "cell_type": "markdown",
   "metadata": {},
   "source": [
    "## Processing the Moves data\n",
    "This is copied more or less verbatim from the `moves-analysis.ipynb` notebook that's a Personal Data Notebook example. Let's take this code for given right now too: "
   ]
  },
  {
   "cell_type": "code",
   "execution_count": 4,
   "metadata": {},
   "outputs": [],
   "source": [
    "weather_cache = {}\n",
    "\n",
    "def longest_daily_location(daily_segments):\n",
    "    \"\"\"\n",
    "    takes a daily segment log of Moves and returns the \n",
    "    lat/long for the location where most time was spent. \n",
    "    Can be misleading for days w/ lots of travel etc. \n",
    "    But the most quick/dirty solution for now.\n",
    "    \"\"\"\n",
    "    places_of_day = []\n",
    "    for i in daily_segments:\n",
    "        if i['type'] == 'place':\n",
    "            place_location = i['place']['location']\n",
    "            start_time = datetime.strptime(i['startTime'],'%Y%m%dT%H%M%S%z')\n",
    "            end_time = datetime.strptime(i['endTime'],'%Y%m%dT%H%M%S%z')\n",
    "            duration = end_time - start_time\n",
    "            places_of_day.append([place_location,duration])\n",
    "    places_of_day.sort(key=lambda tup: tup[-1],reverse=True)\n",
    "    return places_of_day[0][0]\n",
    "\n",
    "def weather_for_location_day(location, date):\n",
    "    \"\"\"\n",
    "    take a location as returned by longest_daily_location \n",
    "    and a date of YYYYMMDD to get the weather from the \n",
    "    Dark Sky API. Does not do any filtering yet\n",
    "    \"\"\"\n",
    "    if DARKSKY_KEY == 'ENTER_YOUR_KEY_HERE':\n",
    "        raise ValueError(\"Oops, you didn't add your Dark Sky API key! \"\n",
    "              \"Scroll back up to the first step in this notebook. :)\")\n",
    "    date = '{}-{}-{}T12:00:00'.format(\n",
    "    date[:4],\n",
    "    date[4:6],\n",
    "    date[6:8])\n",
    "\n",
    "    if date not in weather_cache:\n",
    "        url = 'https://api.darksky.net/forecast/{}/{},{},{}?units=si'.format(DARKSKY_KEY,\n",
    "            location['lat'],\n",
    "            location['lon'],\n",
    "            date\n",
    "        )\n",
    "        response = requests.get(url)\n",
    "        weather_cache[date] = response.json()\n",
    "\n",
    "    return weather_cache[date]"
   ]
  },
  {
   "cell_type": "markdown",
   "metadata": {},
   "source": [
    "## Importing *Moves* and *Twitter Data*\n",
    "We can now start importing our data from the two data sources. The *Twitter* data will already come in a nicely packaged data frame. For the *Moves* data we will have to make our weather API calls afterwards. "
   ]
  },
  {
   "cell_type": "code",
   "execution_count": 5,
   "metadata": {},
   "outputs": [
    {
     "name": "stdout",
     "output_type": "stream",
     "text": [
      "reading files\n",
      "downloading files\n",
      "reading index\n",
      "iterate over individual files\n",
      "read data/js/tweets/2018_03.js\n",
      "read data/js/tweets/2018_02.js\n",
      "read data/js/tweets/2018_01.js\n",
      "read data/js/tweets/2017_12.js\n",
      "read data/js/tweets/2017_11.js\n",
      "read data/js/tweets/2017_10.js\n",
      "read data/js/tweets/2017_09.js\n",
      "read data/js/tweets/2017_08.js\n",
      "read data/js/tweets/2017_07.js\n",
      "read data/js/tweets/2017_06.js\n",
      "read data/js/tweets/2017_05.js\n",
      "read data/js/tweets/2017_04.js\n",
      "read data/js/tweets/2017_03.js\n",
      "read data/js/tweets/2017_02.js\n",
      "read data/js/tweets/2017_01.js\n",
      "read data/js/tweets/2016_12.js\n",
      "read data/js/tweets/2016_11.js\n",
      "read data/js/tweets/2016_10.js\n",
      "read data/js/tweets/2016_09.js\n",
      "read data/js/tweets/2016_08.js\n",
      "read data/js/tweets/2016_07.js\n",
      "read data/js/tweets/2016_06.js\n",
      "read data/js/tweets/2016_05.js\n",
      "read data/js/tweets/2016_04.js\n",
      "read data/js/tweets/2016_03.js\n",
      "read data/js/tweets/2016_02.js\n",
      "read data/js/tweets/2016_01.js\n",
      "read data/js/tweets/2015_12.js\n",
      "read data/js/tweets/2015_11.js\n",
      "read data/js/tweets/2015_10.js\n",
      "read data/js/tweets/2015_09.js\n",
      "read data/js/tweets/2015_08.js\n",
      "read data/js/tweets/2015_07.js\n",
      "read data/js/tweets/2015_06.js\n",
      "read data/js/tweets/2015_05.js\n",
      "read data/js/tweets/2015_04.js\n",
      "read data/js/tweets/2015_03.js\n",
      "read data/js/tweets/2015_02.js\n",
      "read data/js/tweets/2015_01.js\n",
      "read data/js/tweets/2014_12.js\n",
      "read data/js/tweets/2014_11.js\n",
      "read data/js/tweets/2014_10.js\n",
      "read data/js/tweets/2014_09.js\n",
      "read data/js/tweets/2014_08.js\n",
      "read data/js/tweets/2014_07.js\n",
      "read data/js/tweets/2014_06.js\n",
      "read data/js/tweets/2014_05.js\n",
      "read data/js/tweets/2014_04.js\n",
      "read data/js/tweets/2014_03.js\n",
      "read data/js/tweets/2014_02.js\n",
      "read data/js/tweets/2014_01.js\n",
      "read data/js/tweets/2013_12.js\n",
      "read data/js/tweets/2013_11.js\n",
      "read data/js/tweets/2013_10.js\n",
      "read data/js/tweets/2013_09.js\n",
      "read data/js/tweets/2013_08.js\n",
      "read data/js/tweets/2013_07.js\n",
      "read data/js/tweets/2013_06.js\n",
      "read data/js/tweets/2013_05.js\n",
      "read data/js/tweets/2013_04.js\n",
      "read data/js/tweets/2013_03.js\n",
      "read data/js/tweets/2013_02.js\n",
      "read data/js/tweets/2013_01.js\n",
      "read data/js/tweets/2012_12.js\n",
      "read data/js/tweets/2012_11.js\n",
      "read data/js/tweets/2012_10.js\n",
      "read data/js/tweets/2012_09.js\n",
      "read data/js/tweets/2012_08.js\n",
      "read data/js/tweets/2012_07.js\n",
      "read data/js/tweets/2012_06.js\n",
      "read data/js/tweets/2012_05.js\n",
      "read data/js/tweets/2012_04.js\n",
      "read data/js/tweets/2012_03.js\n",
      "read data/js/tweets/2012_02.js\n",
      "read data/js/tweets/2012_01.js\n",
      "read data/js/tweets/2011_12.js\n",
      "read data/js/tweets/2011_11.js\n",
      "read data/js/tweets/2011_10.js\n",
      "read data/js/tweets/2011_09.js\n",
      "read data/js/tweets/2011_08.js\n",
      "read data/js/tweets/2011_07.js\n",
      "read data/js/tweets/2011_06.js\n",
      "read data/js/tweets/2011_05.js\n",
      "read data/js/tweets/2011_04.js\n",
      "read data/js/tweets/2011_03.js\n",
      "read data/js/tweets/2011_02.js\n",
      "read data/js/tweets/2011_01.js\n",
      "read data/js/tweets/2010_12.js\n",
      "read data/js/tweets/2010_11.js\n",
      "read data/js/tweets/2010_10.js\n",
      "read data/js/tweets/2010_09.js\n",
      "read data/js/tweets/2010_08.js\n",
      "read data/js/tweets/2010_07.js\n",
      "read data/js/tweets/2010_06.js\n",
      "read data/js/tweets/2010_05.js\n",
      "read data/js/tweets/2010_04.js\n",
      "read data/js/tweets/2010_03.js\n",
      "read data/js/tweets/2010_02.js\n",
      "read data/js/tweets/2010_01.js\n",
      "read data/js/tweets/2009_12.js\n",
      "read data/js/tweets/2009_11.js\n",
      "read data/js/tweets/2009_10.js\n",
      "read data/js/tweets/2009_09.js\n",
      "read data/js/tweets/2009_08.js\n",
      "read data/js/tweets/2009_07.js\n",
      "read data/js/tweets/2009_06.js\n",
      "read data/js/tweets/2009_05.js\n",
      "read data/js/tweets/2009_04.js\n",
      "read data/js/tweets/2009_03.js\n",
      "read data/js/tweets/2009_02.js\n",
      "read data/js/tweets/2009_01.js\n",
      "read data/js/tweets/2008_12.js\n",
      "read data/js/tweets/2008_11.js\n",
      "read data/js/tweets/2008_10.js\n",
      "read data/js/tweets/2008_09.js\n",
      "read data/js/tweets/2008_08.js\n",
      "read data/js/tweets/2008_07.js\n",
      "read data/js/tweets/2008_06.js\n",
      "read data/js/tweets/2008_05.js\n",
      "read data/js/tweets/2008_04.js\n",
      "concatenating...\n"
     ]
    }
   ],
   "source": [
    "response = requests.get(\"https://www.openhumans.org/api/direct-sharing/project/exchange-member/?access_token={}\".format(os.environ.get('OH_ACCESS_TOKEN')))\n",
    "user = json.loads(response.content)\n",
    "\n",
    "has_twitter = False\n",
    "has_moves = False\n",
    "\n",
    "# get our download URLs\n",
    "for entry in user['data']:\n",
    "    if entry['source'] == \"direct-sharing-70\":\n",
    "        twitter_data_url = entry['download_url']\n",
    "        has_twitter = True\n",
    "    if entry['source'] == \"direct-sharing-138\":\n",
    "        moves_data_url = entry['download_url']\n",
    "        has_moves = True\n",
    "\n",
    "if not has_twitter:\n",
    "    print(\"YOU NEED TO HAVE SOME TWITTER DATA IN YOUR ACCOUNT TO USE THIS NOTEBOOK\")\n",
    "    print(\"GO TO http://twarxiv.org TO UPLOAD IT\")\n",
    "\n",
    "if not has_twitter:\n",
    "    print(\"YOU NEED TO HAVE SOME MOVES DATA IN YOUR ACCOUNT TO USE THIS NOTEBOOK\")\n",
    "    print(\"GO TO https://ohmovessource.herokuapp.com/ TO UPLOAD IT\")\n",
    "    \n",
    "# read the twitter data\n",
    "twitter_data = create_main_dataframe(zip_url=twitter_data_url)\n",
    "\n",
    "# read the moves data\n",
    "moves_data_raw = requests.get(moves_data_url).content\n",
    "moves_data = json.loads(moves_data_raw)"
   ]
  },
  {
   "cell_type": "markdown",
   "metadata": {},
   "source": [
    "Let's quickly look at the Twitter dataframe to see whether the data was loaded correctly:"
   ]
  },
  {
   "cell_type": "code",
   "execution_count": 6,
   "metadata": {},
   "outputs": [
    {
     "data": {
      "text/html": [
       "<div>\n",
       "<table border=\"1\" class=\"dataframe\">\n",
       "  <thead>\n",
       "    <tr style=\"text-align: right;\">\n",
       "      <th></th>\n",
       "      <th>hashtag</th>\n",
       "      <th>latitude</th>\n",
       "      <th>longitude</th>\n",
       "      <th>media</th>\n",
       "      <th>reply_name</th>\n",
       "      <th>reply_user_name</th>\n",
       "      <th>retweet_name</th>\n",
       "      <th>retweet_user_name</th>\n",
       "      <th>text</th>\n",
       "      <th>url</th>\n",
       "    </tr>\n",
       "    <tr>\n",
       "      <th>utc_time</th>\n",
       "      <th></th>\n",
       "      <th></th>\n",
       "      <th></th>\n",
       "      <th></th>\n",
       "      <th></th>\n",
       "      <th></th>\n",
       "      <th></th>\n",
       "      <th></th>\n",
       "      <th></th>\n",
       "      <th></th>\n",
       "    </tr>\n",
       "  </thead>\n",
       "  <tbody>\n",
       "    <tr>\n",
       "      <th>2018-03-28 17:19:54+00:00</th>\n",
       "      <td>NaN</td>\n",
       "      <td>NaN</td>\n",
       "      <td>NaN</td>\n",
       "      <td>1.0</td>\n",
       "      <td>None</td>\n",
       "      <td>None</td>\n",
       "      <td>David Gerard</td>\n",
       "      <td>davidgerard</td>\n",
       "      <td>RT @davidgerard: new dimensions in ICO scams: ...</td>\n",
       "      <td>NaN</td>\n",
       "    </tr>\n",
       "    <tr>\n",
       "      <th>2018-03-28 16:51:03+00:00</th>\n",
       "      <td>NaN</td>\n",
       "      <td>37.8737</td>\n",
       "      <td>-122.257</td>\n",
       "      <td>NaN</td>\n",
       "      <td>Michael Fe3+</td>\n",
       "      <td>mbeisen</td>\n",
       "      <td>None</td>\n",
       "      <td>None</td>\n",
       "      <td>@mbeisen @michaelhoffman @mmcwatters the futur...</td>\n",
       "      <td>1.0</td>\n",
       "    </tr>\n",
       "    <tr>\n",
       "      <th>2018-03-28 16:45:32+00:00</th>\n",
       "      <td>NaN</td>\n",
       "      <td>37.8737</td>\n",
       "      <td>-122.256</td>\n",
       "      <td>NaN</td>\n",
       "      <td>yo yehudi🏳️‍🌈🇪🇺</td>\n",
       "      <td>yoyehudi</td>\n",
       "      <td>None</td>\n",
       "      <td>None</td>\n",
       "      <td>@yoyehudi I took the easy route: amazon :D</td>\n",
       "      <td>NaN</td>\n",
       "    </tr>\n",
       "    <tr>\n",
       "      <th>2018-03-28 16:38:41+00:00</th>\n",
       "      <td>NaN</td>\n",
       "      <td>37.8737</td>\n",
       "      <td>-122.257</td>\n",
       "      <td>NaN</td>\n",
       "      <td>Timothée Poisot</td>\n",
       "      <td>tpoi</td>\n",
       "      <td>None</td>\n",
       "      <td>None</td>\n",
       "      <td>@tpoi How much I hate “trivial”!</td>\n",
       "      <td>NaN</td>\n",
       "    </tr>\n",
       "    <tr>\n",
       "      <th>2018-03-28 16:01:31+00:00</th>\n",
       "      <td>NaN</td>\n",
       "      <td>37.8632</td>\n",
       "      <td>-122.273</td>\n",
       "      <td>NaN</td>\n",
       "      <td>Jason Williams</td>\n",
       "      <td>JasonWilliamsNY</td>\n",
       "      <td>None</td>\n",
       "      <td>None</td>\n",
       "      <td>@JasonWilliamsNY Absolutely, but this one has ...</td>\n",
       "      <td>NaN</td>\n",
       "    </tr>\n",
       "  </tbody>\n",
       "</table>\n",
       "</div>"
      ],
      "text/plain": [
       "                           hashtag latitude longitude  media       reply_name  \\\n",
       "utc_time                                                                        \n",
       "2018-03-28 17:19:54+00:00      NaN      NaN       NaN    1.0             None   \n",
       "2018-03-28 16:51:03+00:00      NaN  37.8737  -122.257    NaN     Michael Fe3+   \n",
       "2018-03-28 16:45:32+00:00      NaN  37.8737  -122.256    NaN  yo yehudi🏳️‍🌈🇪🇺   \n",
       "2018-03-28 16:38:41+00:00      NaN  37.8737  -122.257    NaN  Timothée Poisot   \n",
       "2018-03-28 16:01:31+00:00      NaN  37.8632  -122.273    NaN   Jason Williams   \n",
       "\n",
       "                           reply_user_name  retweet_name retweet_user_name  \\\n",
       "utc_time                                                                     \n",
       "2018-03-28 17:19:54+00:00             None  David Gerard       davidgerard   \n",
       "2018-03-28 16:51:03+00:00          mbeisen          None              None   \n",
       "2018-03-28 16:45:32+00:00         yoyehudi          None              None   \n",
       "2018-03-28 16:38:41+00:00             tpoi          None              None   \n",
       "2018-03-28 16:01:31+00:00  JasonWilliamsNY          None              None   \n",
       "\n",
       "                                                                        text  \\\n",
       "utc_time                                                                       \n",
       "2018-03-28 17:19:54+00:00  RT @davidgerard: new dimensions in ICO scams: ...   \n",
       "2018-03-28 16:51:03+00:00  @mbeisen @michaelhoffman @mmcwatters the futur...   \n",
       "2018-03-28 16:45:32+00:00         @yoyehudi I took the easy route: amazon :D   \n",
       "2018-03-28 16:38:41+00:00                   @tpoi How much I hate “trivial”!   \n",
       "2018-03-28 16:01:31+00:00  @JasonWilliamsNY Absolutely, but this one has ...   \n",
       "\n",
       "                           url  \n",
       "utc_time                        \n",
       "2018-03-28 17:19:54+00:00  NaN  \n",
       "2018-03-28 16:51:03+00:00  1.0  \n",
       "2018-03-28 16:45:32+00:00  NaN  \n",
       "2018-03-28 16:38:41+00:00  NaN  \n",
       "2018-03-28 16:01:31+00:00  NaN  "
      ]
     },
     "execution_count": 6,
     "metadata": {},
     "output_type": "execute_result"
    }
   ],
   "source": [
    "twitter_data.head()"
   ]
  },
  {
   "cell_type": "markdown",
   "metadata": {},
   "source": [
    "If this looks good we can now go ahead and import the weather data from the Dark Sky's API and convert the data into a data frame too:"
   ]
  },
  {
   "cell_type": "code",
   "execution_count": 7,
   "metadata": {},
   "outputs": [],
   "source": [
    "\n",
    "weather_variables  = ['precipType','precipIntensity','temperatureHigh',\n",
    "                      'temperatureLow','precipIntensityMax','precipAccumulation',\n",
    "                      'apparentTemperatureHigh', 'apparentTemperatureLow']\n",
    "\n",
    "moves_processed_data = defaultdict(list)\n",
    "\n",
    "for datapoint in moves_data:\n",
    "    # we need to have observed segments for that day. If moves wasn't running we ignore the day\n",
    "    if datapoint['segments'] != None:\n",
    "        # did we stay in a place that day and did we walk that day?\n",
    "        has_places = False\n",
    "        walked = False\n",
    "        for i in datapoint['segments']:\n",
    "            if i['type'] == 'place':\n",
    "                    # yes, we were in one place w/o moving around too much, we can keep this day\n",
    "                    has_places = True\n",
    "        # is this day in our date range of interest and has data?\n",
    "        if datapoint['summary'] != None and has_places and datetime.strptime(datapoint['date'],\"%Y%m%d\") > datetime.strptime(DATARANGE_START,\"%Y-%m-%d\"):\n",
    "            moves_processed_data['date'].append(datapoint['date'])\n",
    "            for activity in datapoint['summary']:\n",
    "                if activity['activity'] == 'walking':\n",
    "                    moves_processed_data['steps'].append(activity['steps'])\n",
    "                    moves_processed_data['distance'].append(activity['distance'])\n",
    "                    walked = True\n",
    "            # whops, we have moves data for this day but moves didn't register you walking & your step count is zero\n",
    "            if not walked:\n",
    "                moves_processed_data['steps'].append(0)\n",
    "                moves_processed_data['distance'].append(0)    \n",
    "            # grab the location where we spent most time as baseline geo location for the day\n",
    "            location = longest_daily_location(datapoint['segments'])\n",
    "            moves_processed_data['lat'].append(location['lat'])\n",
    "            moves_processed_data['lon'].append(location['lon'])\n",
    "            # now we can grab the weather for our baseline location\n",
    "            weather = weather_for_location_day(location,datapoint['date'])\n",
    "            for variable in weather_variables:\n",
    "                if variable in weather['daily']['data'][0].keys():\n",
    "                    moves_processed_data[variable].append(weather['daily']['data'][0][variable])\n",
    "                else:\n",
    "                    moves_processed_data[variable].append(0)\n",
    "            if datetime.strptime(datapoint['date'],\"%Y%m%d\") > datetime.strptime(DATARANGE_END,\"%Y-%m-%d\"):\n",
    "                break\n",
    "\n",
    "moves_dataframe = pd.DataFrame(data={\n",
    "    'date': moves_processed_data['date'],\n",
    "    'steps': moves_processed_data['steps'],\n",
    "    'distance': moves_processed_data['distance'],\n",
    "    'latitude': moves_processed_data['lat'],\n",
    "    'longitude': moves_processed_data['lon'],\n",
    "    'precipType': moves_processed_data['precipType'],\n",
    "    'precipIntensity': moves_processed_data['precipIntensity'],\n",
    "    'precipIntensityMax': moves_processed_data['precipIntensityMax'],\n",
    "    'precipAccumulation': moves_processed_data['precipAccumulation'],\n",
    "    'temperatureHigh': moves_processed_data['temperatureHigh'],\n",
    "    'temperatureLow': moves_processed_data['temperatureLow'],\n",
    "    'apparentTemperatureHigh': moves_processed_data['apparentTemperatureHigh'],\n",
    "    'apparentTemperatureLow': moves_processed_data['apparentTemperatureLow']\n",
    "\n",
    "})"
   ]
  },
  {
   "cell_type": "markdown",
   "metadata": {},
   "source": [
    "Let's check whether the *Moves* weather look up worked out:"
   ]
  },
  {
   "cell_type": "code",
   "execution_count": 8,
   "metadata": {},
   "outputs": [
    {
     "data": {
      "text/html": [
       "<div>\n",
       "<table border=\"1\" class=\"dataframe\">\n",
       "  <thead>\n",
       "    <tr style=\"text-align: right;\">\n",
       "      <th></th>\n",
       "      <th>apparentTemperatureHigh</th>\n",
       "      <th>apparentTemperatureLow</th>\n",
       "      <th>date</th>\n",
       "      <th>distance</th>\n",
       "      <th>latitude</th>\n",
       "      <th>longitude</th>\n",
       "      <th>precipAccumulation</th>\n",
       "      <th>precipIntensity</th>\n",
       "      <th>precipIntensityMax</th>\n",
       "      <th>precipType</th>\n",
       "      <th>steps</th>\n",
       "      <th>temperatureHigh</th>\n",
       "      <th>temperatureLow</th>\n",
       "    </tr>\n",
       "  </thead>\n",
       "  <tbody>\n",
       "    <tr>\n",
       "      <th>0</th>\n",
       "      <td>18.01</td>\n",
       "      <td>10.72</td>\n",
       "      <td>20160617</td>\n",
       "      <td>1759.0</td>\n",
       "      <td>50.060944</td>\n",
       "      <td>8.818717</td>\n",
       "      <td>0.0</td>\n",
       "      <td>0.2515</td>\n",
       "      <td>3.5230</td>\n",
       "      <td>rain</td>\n",
       "      <td>992</td>\n",
       "      <td>18.01</td>\n",
       "      <td>10.72</td>\n",
       "    </tr>\n",
       "    <tr>\n",
       "      <th>1</th>\n",
       "      <td>18.11</td>\n",
       "      <td>11.41</td>\n",
       "      <td>20160618</td>\n",
       "      <td>5413.0</td>\n",
       "      <td>50.060944</td>\n",
       "      <td>8.818717</td>\n",
       "      <td>0.0</td>\n",
       "      <td>0.1499</td>\n",
       "      <td>1.8009</td>\n",
       "      <td>rain</td>\n",
       "      <td>6730</td>\n",
       "      <td>18.11</td>\n",
       "      <td>11.41</td>\n",
       "    </tr>\n",
       "    <tr>\n",
       "      <th>2</th>\n",
       "      <td>17.45</td>\n",
       "      <td>7.46</td>\n",
       "      <td>20160619</td>\n",
       "      <td>6471.0</td>\n",
       "      <td>50.060944</td>\n",
       "      <td>8.818717</td>\n",
       "      <td>0.0</td>\n",
       "      <td>0.0076</td>\n",
       "      <td>0.1575</td>\n",
       "      <td>rain</td>\n",
       "      <td>6395</td>\n",
       "      <td>17.45</td>\n",
       "      <td>7.83</td>\n",
       "    </tr>\n",
       "    <tr>\n",
       "      <th>3</th>\n",
       "      <td>21.37</td>\n",
       "      <td>13.95</td>\n",
       "      <td>20160620</td>\n",
       "      <td>4613.0</td>\n",
       "      <td>50.060944</td>\n",
       "      <td>8.818717</td>\n",
       "      <td>0.0</td>\n",
       "      <td>0.2235</td>\n",
       "      <td>2.7127</td>\n",
       "      <td>rain</td>\n",
       "      <td>4377</td>\n",
       "      <td>21.37</td>\n",
       "      <td>13.95</td>\n",
       "    </tr>\n",
       "    <tr>\n",
       "      <th>4</th>\n",
       "      <td>21.62</td>\n",
       "      <td>17.37</td>\n",
       "      <td>20160621</td>\n",
       "      <td>2238.0</td>\n",
       "      <td>50.114025</td>\n",
       "      <td>8.753432</td>\n",
       "      <td>0.0</td>\n",
       "      <td>0.2235</td>\n",
       "      <td>2.3520</td>\n",
       "      <td>rain</td>\n",
       "      <td>2673</td>\n",
       "      <td>21.62</td>\n",
       "      <td>17.10</td>\n",
       "    </tr>\n",
       "  </tbody>\n",
       "</table>\n",
       "</div>"
      ],
      "text/plain": [
       "   apparentTemperatureHigh  apparentTemperatureLow      date  distance  \\\n",
       "0                    18.01                   10.72  20160617    1759.0   \n",
       "1                    18.11                   11.41  20160618    5413.0   \n",
       "2                    17.45                    7.46  20160619    6471.0   \n",
       "3                    21.37                   13.95  20160620    4613.0   \n",
       "4                    21.62                   17.37  20160621    2238.0   \n",
       "\n",
       "    latitude  longitude  precipAccumulation  precipIntensity  \\\n",
       "0  50.060944   8.818717                 0.0           0.2515   \n",
       "1  50.060944   8.818717                 0.0           0.1499   \n",
       "2  50.060944   8.818717                 0.0           0.0076   \n",
       "3  50.060944   8.818717                 0.0           0.2235   \n",
       "4  50.114025   8.753432                 0.0           0.2235   \n",
       "\n",
       "   precipIntensityMax precipType  steps  temperatureHigh  temperatureLow  \n",
       "0              3.5230       rain    992            18.01           10.72  \n",
       "1              1.8009       rain   6730            18.11           11.41  \n",
       "2              0.1575       rain   6395            17.45            7.83  \n",
       "3              2.7127       rain   4377            21.37           13.95  \n",
       "4              2.3520       rain   2673            21.62           17.10  "
      ]
     },
     "execution_count": 8,
     "metadata": {},
     "output_type": "execute_result"
    }
   ],
   "source": [
    "moves_dataframe.head()"
   ]
  },
  {
   "cell_type": "markdown",
   "metadata": {},
   "source": [
    "If that looks good we can now do a quick sentiment prediction for our *Twitter* data:"
   ]
  },
  {
   "cell_type": "code",
   "execution_count": 9,
   "metadata": {},
   "outputs": [],
   "source": [
    "polarity = []\n",
    "subjectivity = []\n",
    "twitter_data['blob'] = twitter_data['text'].apply(TextBlob)\n",
    "for entry in twitter_data['blob']:\n",
    "    polarity.append(entry.sentiment.polarity)\n",
    "    subjectivity.append(entry.sentiment.subjectivity)\n",
    "twitter_data['polarity'] = polarity\n",
    "twitter_data['subjectivity'] = subjectivity\n",
    "twitter_data = twitter_data.replace(0, np.nan)"
   ]
  },
  {
   "cell_type": "markdown",
   "metadata": {},
   "source": [
    "Let's now grab the mean sentiment per day and the number of tweets per day and store all of that in `twitter_mean`:"
   ]
  },
  {
   "cell_type": "code",
   "execution_count": 10,
   "metadata": {},
   "outputs": [],
   "source": [
    "twitter_data['date'] = twitter_data.index.date\n",
    "tweets_per_day = twitter_data['date'].value_counts()\n",
    "twitter_mean = twitter_data.groupby(twitter_data.index.date).mean()\n",
    "twitter_mean = twitter_mean.join(tweets_per_day)"
   ]
  },
  {
   "cell_type": "code",
   "execution_count": 11,
   "metadata": {},
   "outputs": [
    {
     "data": {
      "text/html": [
       "<div>\n",
       "<table border=\"1\" class=\"dataframe\">\n",
       "  <thead>\n",
       "    <tr style=\"text-align: right;\">\n",
       "      <th></th>\n",
       "      <th>hashtag</th>\n",
       "      <th>latitude</th>\n",
       "      <th>longitude</th>\n",
       "      <th>media</th>\n",
       "      <th>url</th>\n",
       "      <th>polarity</th>\n",
       "      <th>subjectivity</th>\n",
       "      <th>date</th>\n",
       "    </tr>\n",
       "  </thead>\n",
       "  <tbody>\n",
       "    <tr>\n",
       "      <th>2008-04-02</th>\n",
       "      <td>NaN</td>\n",
       "      <td>NaN</td>\n",
       "      <td>NaN</td>\n",
       "      <td>NaN</td>\n",
       "      <td>NaN</td>\n",
       "      <td>0.422222</td>\n",
       "      <td>0.644444</td>\n",
       "      <td>2</td>\n",
       "    </tr>\n",
       "    <tr>\n",
       "      <th>2008-04-03</th>\n",
       "      <td>NaN</td>\n",
       "      <td>NaN</td>\n",
       "      <td>NaN</td>\n",
       "      <td>NaN</td>\n",
       "      <td>NaN</td>\n",
       "      <td>0.016667</td>\n",
       "      <td>0.916667</td>\n",
       "      <td>12</td>\n",
       "    </tr>\n",
       "    <tr>\n",
       "      <th>2008-04-04</th>\n",
       "      <td>NaN</td>\n",
       "      <td>NaN</td>\n",
       "      <td>NaN</td>\n",
       "      <td>NaN</td>\n",
       "      <td>NaN</td>\n",
       "      <td>-0.333333</td>\n",
       "      <td>0.666667</td>\n",
       "      <td>9</td>\n",
       "    </tr>\n",
       "    <tr>\n",
       "      <th>2008-04-05</th>\n",
       "      <td>NaN</td>\n",
       "      <td>NaN</td>\n",
       "      <td>NaN</td>\n",
       "      <td>NaN</td>\n",
       "      <td>NaN</td>\n",
       "      <td>0.500000</td>\n",
       "      <td>1.000000</td>\n",
       "      <td>6</td>\n",
       "    </tr>\n",
       "    <tr>\n",
       "      <th>2008-04-06</th>\n",
       "      <td>NaN</td>\n",
       "      <td>NaN</td>\n",
       "      <td>NaN</td>\n",
       "      <td>NaN</td>\n",
       "      <td>NaN</td>\n",
       "      <td>NaN</td>\n",
       "      <td>NaN</td>\n",
       "      <td>3</td>\n",
       "    </tr>\n",
       "  </tbody>\n",
       "</table>\n",
       "</div>"
      ],
      "text/plain": [
       "            hashtag  latitude  longitude  media  url  polarity  subjectivity  \\\n",
       "2008-04-02      NaN       NaN        NaN    NaN  NaN  0.422222      0.644444   \n",
       "2008-04-03      NaN       NaN        NaN    NaN  NaN  0.016667      0.916667   \n",
       "2008-04-04      NaN       NaN        NaN    NaN  NaN -0.333333      0.666667   \n",
       "2008-04-05      NaN       NaN        NaN    NaN  NaN  0.500000      1.000000   \n",
       "2008-04-06      NaN       NaN        NaN    NaN  NaN       NaN           NaN   \n",
       "\n",
       "            date  \n",
       "2008-04-02     2  \n",
       "2008-04-03    12  \n",
       "2008-04-04     9  \n",
       "2008-04-05     6  \n",
       "2008-04-06     3  "
      ]
     },
     "execution_count": 11,
     "metadata": {},
     "output_type": "execute_result"
    }
   ],
   "source": [
    "twitter_mean.head()"
   ]
  },
  {
   "cell_type": "markdown",
   "metadata": {},
   "source": [
    "Now we need to set the index for the *Moves* data correctly so that we can join our two dataframes on it. To do that we need to correctly parse the `date` column."
   ]
  },
  {
   "cell_type": "code",
   "execution_count": 12,
   "metadata": {},
   "outputs": [],
   "source": [
    "moves_dataframe['date'] = moves_dataframe['date'].apply(lambda x: datetime.strptime(x,\"%Y%m%d\"))\n",
    "moves_dataframe.index = moves_dataframe['date']\n",
    "twitter_moves = twitter_mean.join(moves_dataframe,lsuffix='_twitter',rsuffix='_moves',how='right')"
   ]
  },
  {
   "cell_type": "markdown",
   "metadata": {},
   "source": [
    "# Polarity/Subjectivity in relation to felt temperature\n",
    "And with that we are ready to plot how our `polarity` and `subjectivity` is dependent e.g. on the `apparentTemperatureHigh`:"
   ]
  },
  {
   "cell_type": "code",
   "execution_count": 13,
   "metadata": {},
   "outputs": [
    {
     "data": {
      "text/plain": [
       "<seaborn.axisgrid.FacetGrid at 0x7fd21d57ad68>"
      ]
     },
     "execution_count": 13,
     "metadata": {},
     "output_type": "execute_result"
    },
    {
     "data": {
      "image/png": "[encoded data removed]",
      "text/plain": [
       "<Figure size 864x576 with 1 Axes>"
      ]
     },
     "metadata": {},
     "output_type": "display_data"
    }
   ],
   "source": [
    "sns.lmplot(x=\"apparentTemperatureHigh\", y=\"polarity\", data=twitter_moves,lowess=True,size=8,aspect=1.5)"
   ]
  },
  {
   "cell_type": "code",
   "execution_count": 14,
   "metadata": {},
   "outputs": [
    {
     "data": {
      "text/plain": [
       "<seaborn.axisgrid.FacetGrid at 0x7fd21cce24a8>"
      ]
     },
     "execution_count": 14,
     "metadata": {},
     "output_type": "execute_result"
    },
    {
     "data": {
      "image/png": "[encoded data removed]",
      "text/plain": [
       "<Figure size 864x576 with 1 Axes>"
      ]
     },
     "metadata": {},
     "output_type": "display_data"
    }
   ],
   "source": [
    "sns.lmplot(x=\"apparentTemperatureHigh\", y=\"subjectivity\", data=twitter_moves,lowess=True,size=8,aspect=1.5)"
   ]
  },
  {
   "cell_type": "markdown",
   "metadata": {},
   "source": [
    "There seems to be very little interaction between the perceived temperature and the polarity/subjectivity. So, maybe it's more a function of how wet it's outside?\n",
    "\n",
    "# Tears in the rain: Polarity/Subjectivity in relation to percipitation\n",
    "Let's just plot `polarity` and `subjectivity` in relation to the presence/absence of any percipitation outside:"
   ]
  },
  {
   "cell_type": "code",
   "execution_count": 15,
   "metadata": {},
   "outputs": [
    {
     "data": {
      "text/plain": [
       "<matplotlib.axes._subplots.AxesSubplot at 0x7fd21cc62438>"
      ]
     },
     "execution_count": 15,
     "metadata": {},
     "output_type": "execute_result"
    },
    {
     "data": {
      "image/png": "[encoded data removed]",
      "text/plain": [
       "<Figure size 432x288 with 1 Axes>"
      ]
     },
     "metadata": {},
     "output_type": "display_data"
    }
   ],
   "source": [
    "sns.violinplot(x='precipType',\n",
    "               y='polarity',\n",
    "               data=twitter_moves[twitter_moves['precipType'] != 'snow'])"
   ]
  },
  {
   "cell_type": "code",
   "execution_count": 16,
   "metadata": {},
   "outputs": [
    {
     "data": {
      "text/plain": [
       "<matplotlib.axes._subplots.AxesSubplot at 0x7fd21cbda160>"
      ]
     },
     "execution_count": 16,
     "metadata": {},
     "output_type": "execute_result"
    },
    {
     "data": {
      "image/png": "[encoded data removed]",
      "text/plain": [
       "<Figure size 432x288 with 1 Axes>"
      ]
     },
     "metadata": {},
     "output_type": "display_data"
    }
   ],
   "source": [
    "sns.violinplot(x='precipType',\n",
    "               y='subjectivity',\n",
    "               data=twitter_moves[twitter_moves['precipType'] != 'snow'])"
   ]
  },
  {
   "cell_type": "code",
   "execution_count": 17,
   "metadata": {},
   "outputs": [
    {
     "name": "stdout",
     "output_type": "stream",
     "text": [
      "the p-value for a subjectivity-difference between rain & shine is 0.827896273529459\n",
      "--\n",
      "the p-value for a polarity-difference between rain & shine is 0.9882673041937862\n"
     ]
    }
   ],
   "source": [
    "from scipy.stats import mannwhitneyu\n",
    "\n",
    "twitter_moves\n",
    "\n",
    "rain = twitter_moves[twitter_moves['precipType'] == 'rain']\n",
    "clear = twitter_moves[twitter_moves['precipType'] == 0]\n",
    "polarity_results = mannwhitneyu(rain['polarity'], clear['polarity'],alternative='two-sided')\n",
    "subjectivity_results  = mannwhitneyu(rain['subjectivity'], clear['subjectivity'],alternative='two-sided')\n",
    "print('the p-value for a subjectivity-difference between rain & shine is {}'.format(subjectivity_results.pvalue))\n",
    "print('--')\n",
    "print('the p-value for a polarity-difference between rain & shine is {}'.format(polarity_results.pvalue))"
   ]
  },
  {
   "cell_type": "markdown",
   "metadata": {},
   "source": [
    "Neither the plots themselves nor the `mannwhitneyu` statistical test offers any evidence for the weather influencing the `polarity` or `subjectivity` of tweets in this case. ☔️✨☀️🌈\n",
    "\n",
    "## Tweets per Day & the Weather\n",
    "\n",
    "Let's now check whether the weather impacts how many tweets per day are being sent. Given that my own Twitter frequency fluctuates a lot over the years I want to limit myself to the year 2016 for the analysis:"
   ]
  },
  {
   "cell_type": "code",
   "execution_count": 18,
   "metadata": {},
   "outputs": [],
   "source": [
    "tweet_year = \"2016\"\n",
    "# you can get these values from Google Maps by clicking on a point and copy&pasting the values \n",
    "# from the URL/bottom information box\n",
    "\n",
    "target_latitude = 50.114462 # If you're south of the equator this one should start with \"-\"\n",
    "target_longitude = 8.746019 # If you're west of the prime meridian this should also start with a \"-\"\n",
    "km_distance = 25 # we don't want to be too strict in filtering. "
   ]
  },
  {
   "cell_type": "code",
   "execution_count": 19,
   "metadata": {},
   "outputs": [
    {
     "data": {
      "text/plain": [
       "<seaborn.axisgrid.FacetGrid at 0x7fd21cbb7860>"
      ]
     },
     "execution_count": 19,
     "metadata": {},
     "output_type": "execute_result"
    },
    {
     "data": {
      "image/png": "[encoded data removed]",
      "text/plain": [
       "<Figure size 864x576 with 1 Axes>"
      ]
     },
     "metadata": {},
     "output_type": "display_data"
    }
   ],
   "source": [
    "# earth's radius in km = ~6371\n",
    "earth_radius = 6371\n",
    "\n",
    "# latitude boundaries\n",
    "maxlat = target_latitude + np.rad2deg(km_distance / earth_radius)\n",
    "minlat = target_latitude - np.rad2deg(km_distance / earth_radius)\n",
    "\n",
    "#longitude boundaries (longitude gets smaller when latitude increases)\n",
    "maxlng = target_longitude + np.rad2deg(km_distance / earth_radius / np.cos(np.deg2rad(target_latitude)))\n",
    "minlng = target_longitude - np.rad2deg(km_distance / earth_radius / np.cos(np.deg2rad(target_latitude)))\n",
    "\n",
    "twitter_moves['tweets_per_day'] = twitter_moves['date_twitter'] \n",
    "twitter_moves_subset = twitter_moves[(twitter_moves.index.year == int(tweet_year)) & \n",
    "                                    (twitter_moves['longitude_moves'] >= minlng) & \n",
    "                                    (twitter_moves['longitude_moves'] < maxlng) &\n",
    "                                    (twitter_moves['latitude_moves'] < maxlat) & \n",
    "                                    (twitter_moves['latitude_moves'] > minlat)]\n",
    "\n",
    "\n",
    "sns.lmplot(x=\"temperatureLow\", y=\"tweets_per_day\", data=twitter_moves_subset,lowess=True,size=8,aspect=1.5)"
   ]
  },
  {
   "cell_type": "markdown",
   "metadata": {},
   "source": [
    "There seems to be somewhat of a positive correlation between the temperature and the number of tweets per day. But how does it correlate to the presence of precipitation?"
   ]
  },
  {
   "cell_type": "code",
   "execution_count": 20,
   "metadata": {},
   "outputs": [
    {
     "data": {
      "text/plain": [
       "<matplotlib.axes._subplots.AxesSubplot at 0x7fd21cb83da0>"
      ]
     },
     "execution_count": 20,
     "metadata": {},
     "output_type": "execute_result"
    },
    {
     "data": {
      "image/png": "[encoded data removed]",
      "text/plain": [
       "<Figure size 432x288 with 1 Axes>"
      ]
     },
     "metadata": {},
     "output_type": "display_data"
    }
   ],
   "source": [
    "sns.violinplot(x='precipType',\n",
    "               y='subjectivity',\n",
    "               data=twitter_moves_subset[twitter_moves_subset['precipType'] != 'snow'])"
   ]
  },
  {
   "cell_type": "markdown",
   "metadata": {},
   "source": [
    "While there is a slight trend it overall seems that Twitter isn't just for rainy days after all but is also happily used on sunny days. ☀️"
   ]
  }
 ],
 "metadata": {
  "kernelspec": {
   "display_name": "Python 3",
   "language": "python",
   "name": "python3"
  },
  "language_info": {
   "codemirror_mode": {
    "name": "ipython",
    "version": 3
   },
   "file_extension": ".py",
   "mimetype": "text/x-python",
   "name": "python",
   "nbconvert_exporter": "python",
   "pygments_lexer": "ipython3",
   "version": "3.6.5"
  }
 },
 "nbformat": 4,
 "nbformat_minor": 2
}
