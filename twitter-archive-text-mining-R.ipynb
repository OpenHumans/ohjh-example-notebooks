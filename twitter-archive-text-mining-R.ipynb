{
 "cells": [
  {
   "cell_type": "markdown",
   "metadata": {},
   "source": [
    "# Twitter archive analysis in R\n",
    "This performs some twitter archive analysis that is [based on this chapter of *Text Mining with R*](https://www.tidytextmining.com/twitter.html). To use this notebook you need to have uploaded a Twitter archive into your *Open Humans* account through http://twarxiv.org. \n Initially, what you'll see is data I've supplied, and as you run each command, it'll be replaced with your data.\n",
    "\n",
    "For a start let's install/load all the required packages again:"
   ]
  },
  {
   "cell_type": "code",
   "execution_count": 1,
   "metadata": {},
   "outputs": [
    {
    }
   ],
   "source": [
    "library(purrr)\n",
    "library(stringr)\n",
    "library(tidytext)\n",
    "library(widyr)\n",
    "library(httr)\n",
    "library(lubridate)\n",
    "library(ggplot2)\n",
    "library(dplyr)\n",
    "library(readr)"
   ]
  },
  {
   "cell_type": "markdown",
   "metadata": {},
   "source": [
    "Let's now get our access token and request our personal user object that will contain all of our data file downloads etc.:"
   ]
  },
  {
   "cell_type": "code",
   "execution_count": 2,
   "metadata": {
    "collapsed": true
   },
   "outputs": [],
   "source": [
    "access_token <- Sys.getenv(\"OH_ACCESS_TOKEN\")\n",
    "url <- paste(\"https://www.openhumans.org/api/direct-sharing/project/exchange-member/?access_token=\",access_token,sep=\"\")\n",
    "resp <- GET(url)\n",
    "user <- content(resp, \"parsed\")"
   ]
  },
  {
   "cell_type": "markdown",
   "metadata": {},
   "source": [
    "If you want to look at the data sources you have on Open Humans, uncomment the line below by removing the #:"
   ]
  },
  {
   "cell_type": "code",
   "execution_count": 3,
   "metadata": {
    "collapsed": true
   },
   "outputs": [],
   "source": [
    "# user$data"
   ]
  },
  {
   "cell_type": "markdown",
   "metadata": {},
   "source": [
    "Let's now find the download URL for the Twitter archive from all files:"
   ]
  },
  {
   "cell_type": "code",
   "execution_count": 1,
   "metadata": {},
   "outputs": [
    {
    }
   ],
   "source": [
    "for (data_source in user$data){\n",
    "    if (data_source$source == \"direct-sharing-70\"){\n",
    "         twitter_archive_url <- data_source$download_url\n",
    "    }\n",
    "}"
   ]
  },
  {
   "cell_type": "markdown",
   "metadata": {},
   "source": [
    "We can now create a temporary file that will contain the whole zipped Twitter archivee, from this we can then unzip and read the `tweets.csv` file:"
   ]
  },
  {
   "cell_type": "code",
   "execution_count": 5,
   "metadata": {},
   "outputs": [
    {
     "name": "stderr",
     "output_type": "stream",
     "text": [
      "Parsed with column specification:\n",
      "cols(\n",
      "  tweet_id = col_double(),\n",
      "  in_reply_to_status_id = col_double(),\n",
      "  in_reply_to_user_id = col_double(),\n",
      "  timestamp = col_character(),\n",
      "  source = col_character(),\n",
      "  text = col_character(),\n",
      "  retweeted_status_id = col_double(),\n",
      "  retweeted_status_user_id = col_double(),\n",
      "  retweeted_status_timestamp = col_character(),\n",
      "  expanded_urls = col_character()\n",
      ")\n"
     ]
    }
   ],
   "source": [
    "temp <- tempfile()\n",
    "download.file(twitter_archive_url,temp,method='wget')\n",
    "\n",
    "#unzip(temp, list=TRUE) # this would list all files in the zip archive\n",
    "\n",
    "data <- read_csv(unz(temp, \"tweets.csv\"))\n"
   ]
  },
  {
   "cell_type": "markdown",
   "metadata": {},
   "source": [
    "Now let's convert the timestamps into a proper format and plot a simple histogram of tweets over time:"
   ]
  },
  {
   "cell_type": "code",
   "execution_count": 6,
   "metadata": {},
   "outputs": [
    {
     "data": {},
     "metadata": {},
     "output_type": "display_data"
    },
    {
     "data": {
      "image/png": "[encoded data removed]",
      "text/plain": [
       "plot without title"
      ]
     },
     "metadata": {},
     "output_type": "display_data"
    }
   ],
   "source": [
    "tweets <- mutate(data,timestamp = ymd_hms(timestamp))\n",
    "ggplot(tweets, aes(x = timestamp)) +\n",
    "  geom_histogram(position = \"identity\", bins = 20, show.legend = FALSE) + theme_minimal()"
   ]
  },
  {
   "cell_type": "markdown",
   "metadata": {},
   "source": [
    "We can now 'tokenize' (that is, break up into words) the tweet texts, which will make it easier to work with them. This also allows us to easily calculate word frequencies in the next step. This stage also passes words through a stopwords filter. Stopwords are those words which are frequently used (such as 'the', 'we', 'and', and 'I') but provide very little information, and it's common to filter them out during a textual analysis. Stopwords are language dependent, so you may want to change the language default. You can read more about the stopwords function here: https://www.rdocumentation.org/packages/tm/versions/0.7-3/topics/stopwords"
   ]
  },
  {
   "cell_type": "code",
   "execution_count": 7,
   "metadata": {
    "collapsed": true
   },
   "outputs": [],
   "source": [
    "replace_reg <- \"https://t.co/[A-Za-z\\\\d]+|http://[A-Za-z\\\\d]+|&amp;|&lt;|&gt;|RT|https\"\n",
    "unnest_reg <- \"([^A-Za-z_\\\\d#@']|'(?![A-Za-z_\\\\d#@]))\"\n",
    "tidy_tweets <- tweets %>% \n",
    "  filter(!str_detect(text, \"^RT\")) %>%\n",
    "  mutate(text = str_replace_all(text, replace_reg, \"\")) %>%\n",
    "  unnest_tokens(word, text, token = \"regex\", pattern = unnest_reg) %>%\n",
    "  filter(!word %in% stop_words$word,\n",
    "         str_detect(word, \"[a-z]\"))\n",
    "\n",
    "frequency <- tidy_tweets %>% \n",
    "  count(word, sort = TRUE) \n",
    "frequency$freq <- frequency$n / sum(frequency$n)"
   ]
  },
  {
   "cell_type": "markdown",
   "metadata": {},
   "source": [
    "So, what are the top words that you've used? Mine are the German equivalents of `I`, all the articles (`der, die, das`) along with `not` and `is`."
   ]
  },
  {
   "cell_type": "code",
   "execution_count": 8,
   "metadata": {},
   "outputs": [
    {
     "data": {
      "text/html": [
       "<table>\n",
       "<thead><tr><th scope=col>word</th><th scope=col>n</th><th scope=col>freq</th></tr></thead>\n",
       "<tbody>\n",
       "\t<tr><td>ich       </td><td>17749     </td><td>0.02300768</td></tr>\n",
       "\t<tr><td>die       </td><td>12838     </td><td>0.01664165</td></tr>\n",
       "\t<tr><td>das       </td><td>12081     </td><td>0.01566036</td></tr>\n",
       "\t<tr><td>der       </td><td> 9146     </td><td>0.01185578</td></tr>\n",
       "\t<tr><td>nicht     </td><td> 8669     </td><td>0.01123746</td></tr>\n",
       "\t<tr><td>ist       </td><td> 8501     </td><td>0.01101968</td></tr>\n",
       "</tbody>\n",
       "</table>\n"
      ],
      "text/latex": [
       "\\begin{tabular}{r|lll}\n",
       " word & n & freq\\\\\n",
       "\\hline\n",
       "\t ich        & 17749      & 0.02300768\\\\\n",
       "\t die        & 12838      & 0.01664165\\\\\n",
       "\t das        & 12081      & 0.01566036\\\\\n",
       "\t der        &  9146      & 0.01185578\\\\\n",
       "\t nicht      &  8669      & 0.01123746\\\\\n",
       "\t ist        &  8501      & 0.01101968\\\\\n",
       "\\end{tabular}\n"
      ],
      "text/markdown": [
       "\n",
       "word | n | freq | \n",
       "|---|---|---|---|---|---|\n",
       "| ich        | 17749      | 0.02300768 | \n",
       "| die        | 12838      | 0.01664165 | \n",
       "| das        | 12081      | 0.01566036 | \n",
       "| der        |  9146      | 0.01185578 | \n",
       "| nicht      |  8669      | 0.01123746 | \n",
       "| ist        |  8501      | 0.01101968 | \n",
       "\n",
       "\n"
      ],
      "text/plain": [
       "  word  n     freq      \n",
       "1 ich   17749 0.02300768\n",
       "2 die   12838 0.01664165\n",
       "3 das   12081 0.01566036\n",
       "4 der    9146 0.01185578\n",
       "5 nicht  8669 0.01123746\n",
       "6 ist    8501 0.01101968"
      ]
     },
     "metadata": {},
     "output_type": "display_data"
    }
   ],
   "source": [
    "head(frequency)"
   ]
  },
  {
   "cell_type": "markdown",
   "metadata": {},
   "source": [
    "Let's now group the tweets by being \"old\" (pre-2013) and more recent ones (2013 or newer) to see whether the topics you tweet about have changed. After grouping you can calulcate the word-ratios and look at the most unusual and the most recent words:"
   ]
  },
  {
   "cell_type": "code",
   "execution_count": null,
   "metadata": {
    "collapsed": true
   },
   "outputs": [],
   "source": [
    "cutoff_date <- as.Date(\"2013-01-01\")"
   ]
  },
  {
   "cell_type": "markdown",
   "metadata": {},
   "source": [
    "You can adapt the cutoff above easily to your own needs. Just replace `2013-01-01` with your own date in the `YYYY-MM-DD` format."
   ]
  },
  {
   "cell_type": "code",
   "execution_count": 9,
   "metadata": {},
   "outputs": [
    {
     "data": {
      "text/html": [
       "<table>\n",
       "<thead><tr><th scope=col>word</th><th scope=col>past</th><th scope=col>today</th><th scope=col>logratio</th></tr></thead>\n",
       "<tbody>\n",
       "\t<tr><td>option         </td><td>8.071251e-05   </td><td>8.071286e-05   </td><td>-4.282714e-06  </td></tr>\n",
       "\t<tr><td>backup         </td><td>4.447424e-05   </td><td>4.439207e-05   </td><td> 1.849286e-03  </td></tr>\n",
       "\t<tr><td>ern            </td><td>4.447424e-05   </td><td>4.439207e-05   </td><td> 1.849286e-03  </td></tr>\n",
       "\t<tr><td>gefallen       </td><td>7.247654e-05   </td><td>7.264157e-05   </td><td>-2.274431e-03  </td></tr>\n",
       "\t<tr><td>timeline       </td><td>1.087148e-04   </td><td>1.089624e-04   </td><td>-2.274431e-03  </td></tr>\n",
       "\t<tr><td>wieviel        </td><td>3.623827e-05   </td><td>3.632079e-05   </td><td>-2.274431e-03  </td></tr>\n",
       "\t<tr><td>haha           </td><td>2.091936e-04   </td><td>2.098534e-04   </td><td>-3.148939e-03  </td></tr>\n",
       "\t<tr><td>extra          </td><td>5.271021e-05   </td><td>5.246336e-05   </td><td> 4.694238e-03  </td></tr>\n",
       "\t<tr><td>spam           </td><td>1.054204e-04   </td><td>1.049267e-04   </td><td> 4.694238e-03  </td></tr>\n",
       "\t<tr><td>videos         </td><td>6.424057e-05   </td><td>6.457028e-05   </td><td>-5.119383e-03  </td></tr>\n",
       "\t<tr><td>lasse          </td><td>6.918215e-05   </td><td>6.860593e-05   </td><td> 8.363967e-03  </td></tr>\n",
       "\t<tr><td>bioinformatiker</td><td>2.800230e-05   </td><td>2.824950e-05   </td><td>-8.789112e-03  </td></tr>\n",
       "\t<tr><td>fliegen        </td><td>2.800230e-05   </td><td>2.824950e-05   </td><td>-8.789112e-03  </td></tr>\n",
       "\t<tr><td>hosen          </td><td>2.800230e-05   </td><td>2.824950e-05   </td><td>-8.789112e-03  </td></tr>\n",
       "\t<tr><td>installation   </td><td>2.800230e-05   </td><td>2.824950e-05   </td><td>-8.789112e-03  </td></tr>\n",
       "\t<tr><td>instapaper     </td><td>2.800230e-05   </td><td>2.824950e-05   </td><td>-8.789112e-03  </td></tr>\n",
       "\t<tr><td>krass          </td><td>2.800230e-05   </td><td>2.824950e-05   </td><td>-8.789112e-03  </td></tr>\n",
       "\t<tr><td>medium         </td><td>2.800230e-05   </td><td>2.824950e-05   </td><td>-8.789112e-03  </td></tr>\n",
       "\t<tr><td>quelle         </td><td>2.800230e-05   </td><td>2.824950e-05   </td><td>-8.789112e-03  </td></tr>\n",
       "\t<tr><td>rper           </td><td>2.800230e-05   </td><td>2.824950e-05   </td><td>-8.789112e-03  </td></tr>\n",
       "\t<tr><td>sequenzen      </td><td>2.800230e-05   </td><td>2.824950e-05   </td><td>-8.789112e-03  </td></tr>\n",
       "\t<tr><td>typisch        </td><td>2.800230e-05   </td><td>2.824950e-05   </td><td>-8.789112e-03  </td></tr>\n",
       "\t<tr><td>vertrauen      </td><td>2.800230e-05   </td><td>2.824950e-05   </td><td>-8.789112e-03  </td></tr>\n",
       "\t<tr><td>warm           </td><td>5.600460e-05   </td><td>5.649900e-05   </td><td>-8.789112e-03  </td></tr>\n",
       "\t<tr><td>damals         </td><td>7.741812e-05   </td><td>7.667721e-05   </td><td> 9.616315e-03  </td></tr>\n",
       "\t<tr><td>gelandet       </td><td>4.776863e-05   </td><td>4.842771e-05   </td><td>-1.370313e-02  </td></tr>\n",
       "\t<tr><td>statt          </td><td>1.350699e-04   </td><td>1.331762e-04   </td><td> 1.411938e-02  </td></tr>\n",
       "\t<tr><td>deidesheim     </td><td>4.117985e-05   </td><td>4.035643e-05   </td><td> 2.019842e-02  </td></tr>\n",
       "\t<tr><td>10k            </td><td>1.647194e-05   </td><td>1.614257e-05   </td><td> 2.019842e-02  </td></tr>\n",
       "\t<tr><td>13k            </td><td>8.235970e-06   </td><td>8.071286e-06   </td><td> 2.019842e-02  </td></tr>\n",
       "\t<tr><td>⋮</td><td>⋮</td><td>⋮</td><td>⋮</td></tr>\n",
       "\t<tr><td>fm            </td><td>5.155717e-04  </td><td>8.071286e-06  </td><td> 4.156964     </td></tr>\n",
       "\t<tr><td>#bosc2015     </td><td>1.647194e-06  </td><td>1.089624e-04  </td><td>-4.191929     </td></tr>\n",
       "\t<tr><td>#smbe14       </td><td>1.647194e-06  </td><td>1.089624e-04  </td><td>-4.191929     </td></tr>\n",
       "\t<tr><td>#piratencafe  </td><td>2.701398e-04  </td><td>4.035643e-06  </td><td> 4.203774     </td></tr>\n",
       "\t<tr><td>portland      </td><td>1.647194e-06  </td><td>1.129980e-04  </td><td>-4.228297     </td></tr>\n",
       "\t<tr><td>#lqfb         </td><td>2.964949e-04  </td><td>4.035643e-06  </td><td> 4.296865     </td></tr>\n",
       "\t<tr><td>#mozsprint    </td><td>1.647194e-06  </td><td>1.251049e-04  </td><td>-4.330080     </td></tr>\n",
       "\t<tr><td>#muenster     </td><td>3.113197e-04  </td><td>4.035643e-06  </td><td> 4.345655     </td></tr>\n",
       "\t<tr><td>yay           </td><td>4.941582e-06  </td><td>3.833861e-04  </td><td>-4.351357     </td></tr>\n",
       "\t<tr><td>#smbe16       </td><td>1.647194e-06  </td><td>1.291406e-04  </td><td>-4.361828     </td></tr>\n",
       "\t<tr><td>#force2016    </td><td>1.647194e-06  </td><td>1.412475e-04  </td><td>-4.451440     </td></tr>\n",
       "\t<tr><td>#futurecommons</td><td>1.647194e-06  </td><td>1.412475e-04  </td><td>-4.451440     </td></tr>\n",
       "\t<tr><td>nrw           </td><td>7.330014e-04  </td><td>8.071286e-06  </td><td> 4.508835     </td></tr>\n",
       "\t<tr><td>#csvconf      </td><td>1.647194e-06  </td><td>1.654614e-04  </td><td>-4.609664     </td></tr>\n",
       "\t<tr><td>#mozwow       </td><td>1.647194e-06  </td><td>1.654614e-04  </td><td>-4.609664     </td></tr>\n",
       "\t<tr><td>#bosc2016     </td><td>1.647194e-06  </td><td>1.775683e-04  </td><td>-4.680282     </td></tr>\n",
       "\t<tr><td>#cccamp15     </td><td>1.647194e-06  </td><td>1.775683e-04  </td><td>-4.680282     </td></tr>\n",
       "\t<tr><td>berkeley      </td><td>1.647194e-06  </td><td>1.816039e-04  </td><td>-4.702755     </td></tr>\n",
       "\t<tr><td>#get2015      </td><td>1.647194e-06  </td><td>2.058178e-04  </td><td>-4.827918     </td></tr>\n",
       "\t<tr><td>#smbe15       </td><td>1.647194e-06  </td><td>2.219604e-04  </td><td>-4.903425     </td></tr>\n",
       "\t<tr><td>#piraten      </td><td>5.600460e-04  </td><td>4.035643e-06  </td><td> 4.932853     </td></tr>\n",
       "\t<tr><td>#latergram    </td><td>1.647194e-06  </td><td>2.502099e-04  </td><td>-5.023227     </td></tr>\n",
       "\t<tr><td>emoji         </td><td>1.647194e-06  </td><td>2.502099e-04  </td><td>-5.023227     </td></tr>\n",
       "\t<tr><td>#om13         </td><td>1.647194e-06  </td><td>2.582811e-04  </td><td>-5.054975     </td></tr>\n",
       "\t<tr><td>sci           </td><td>1.647194e-06  </td><td>2.703881e-04  </td><td>-5.100785     </td></tr>\n",
       "\t<tr><td>mp            </td><td>3.350393e-03  </td><td>2.017821e-05  </td><td> 5.112229     </td></tr>\n",
       "\t<tr><td>#bosc2017     </td><td>1.647194e-06  </td><td>3.793504e-04  </td><td>-5.439387     </td></tr>\n",
       "\t<tr><td>#mozfest      </td><td>1.647194e-06  </td><td>4.116356e-04  </td><td>-5.521065     </td></tr>\n",
       "\t<tr><td>#opencon      </td><td>1.647194e-06  </td><td>4.519920e-04  </td><td>-5.614591     </td></tr>\n",
       "\t<tr><td>ly            </td><td>3.758897e-03  </td><td>4.035643e-06  </td><td> 6.836715     </td></tr>\n",
       "</tbody>\n",
       "</table>\n"
      ],
      "text/latex": [
       "\\begin{tabular}{r|llll}\n",
       " word & past & today & logratio\\\\\n",
       "\\hline\n",
       "\t option          & 8.071251e-05    & 8.071286e-05    & -4.282714e-06  \\\\\n",
       "\t backup          & 4.447424e-05    & 4.439207e-05    &  1.849286e-03  \\\\\n",
       "\t ern             & 4.447424e-05    & 4.439207e-05    &  1.849286e-03  \\\\\n",
       "\t gefallen        & 7.247654e-05    & 7.264157e-05    & -2.274431e-03  \\\\\n",
       "\t timeline        & 1.087148e-04    & 1.089624e-04    & -2.274431e-03  \\\\\n",
       "\t wieviel         & 3.623827e-05    & 3.632079e-05    & -2.274431e-03  \\\\\n",
       "\t haha            & 2.091936e-04    & 2.098534e-04    & -3.148939e-03  \\\\\n",
       "\t extra           & 5.271021e-05    & 5.246336e-05    &  4.694238e-03  \\\\\n",
       "\t spam            & 1.054204e-04    & 1.049267e-04    &  4.694238e-03  \\\\\n",
       "\t videos          & 6.424057e-05    & 6.457028e-05    & -5.119383e-03  \\\\\n",
       "\t lasse           & 6.918215e-05    & 6.860593e-05    &  8.363967e-03  \\\\\n",
       "\t bioinformatiker & 2.800230e-05    & 2.824950e-05    & -8.789112e-03  \\\\\n",
       "\t fliegen         & 2.800230e-05    & 2.824950e-05    & -8.789112e-03  \\\\\n",
       "\t hosen           & 2.800230e-05    & 2.824950e-05    & -8.789112e-03  \\\\\n",
       "\t installation    & 2.800230e-05    & 2.824950e-05    & -8.789112e-03  \\\\\n",
       "\t instapaper      & 2.800230e-05    & 2.824950e-05    & -8.789112e-03  \\\\\n",
       "\t krass           & 2.800230e-05    & 2.824950e-05    & -8.789112e-03  \\\\\n",
       "\t medium          & 2.800230e-05    & 2.824950e-05    & -8.789112e-03  \\\\\n",
       "\t quelle          & 2.800230e-05    & 2.824950e-05    & -8.789112e-03  \\\\\n",
       "\t rper            & 2.800230e-05    & 2.824950e-05    & -8.789112e-03  \\\\\n",
       "\t sequenzen       & 2.800230e-05    & 2.824950e-05    & -8.789112e-03  \\\\\n",
       "\t typisch         & 2.800230e-05    & 2.824950e-05    & -8.789112e-03  \\\\\n",
       "\t vertrauen       & 2.800230e-05    & 2.824950e-05    & -8.789112e-03  \\\\\n",
       "\t warm            & 5.600460e-05    & 5.649900e-05    & -8.789112e-03  \\\\\n",
       "\t damals          & 7.741812e-05    & 7.667721e-05    &  9.616315e-03  \\\\\n",
       "\t gelandet        & 4.776863e-05    & 4.842771e-05    & -1.370313e-02  \\\\\n",
       "\t statt           & 1.350699e-04    & 1.331762e-04    &  1.411938e-02  \\\\\n",
       "\t deidesheim      & 4.117985e-05    & 4.035643e-05    &  2.019842e-02  \\\\\n",
       "\t 10k             & 1.647194e-05    & 1.614257e-05    &  2.019842e-02  \\\\\n",
       "\t 13k             & 8.235970e-06    & 8.071286e-06    &  2.019842e-02  \\\\\n",
       "\t ⋮ & ⋮ & ⋮ & ⋮\\\\\n",
       "\t fm             & 5.155717e-04   & 8.071286e-06   &  4.156964     \\\\\n",
       "\t \\#bosc2015      & 1.647194e-06     & 1.089624e-04     & -4.191929       \\\\\n",
       "\t \\#smbe14        & 1.647194e-06     & 1.089624e-04     & -4.191929       \\\\\n",
       "\t \\#piratencafe   & 2.701398e-04     & 4.035643e-06     &  4.203774       \\\\\n",
       "\t portland       & 1.647194e-06   & 1.129980e-04   & -4.228297     \\\\\n",
       "\t \\#lqfb          & 2.964949e-04     & 4.035643e-06     &  4.296865       \\\\\n",
       "\t \\#mozsprint     & 1.647194e-06     & 1.251049e-04     & -4.330080       \\\\\n",
       "\t \\#muenster      & 3.113197e-04     & 4.035643e-06     &  4.345655       \\\\\n",
       "\t yay            & 4.941582e-06   & 3.833861e-04   & -4.351357     \\\\\n",
       "\t \\#smbe16        & 1.647194e-06     & 1.291406e-04     & -4.361828       \\\\\n",
       "\t \\#force2016     & 1.647194e-06     & 1.412475e-04     & -4.451440       \\\\\n",
       "\t \\#futurecommons & 1.647194e-06     & 1.412475e-04     & -4.451440       \\\\\n",
       "\t nrw            & 7.330014e-04   & 8.071286e-06   &  4.508835     \\\\\n",
       "\t \\#csvconf       & 1.647194e-06     & 1.654614e-04     & -4.609664       \\\\\n",
       "\t \\#mozwow        & 1.647194e-06     & 1.654614e-04     & -4.609664       \\\\\n",
       "\t \\#bosc2016      & 1.647194e-06     & 1.775683e-04     & -4.680282       \\\\\n",
       "\t \\#cccamp15      & 1.647194e-06     & 1.775683e-04     & -4.680282       \\\\\n",
       "\t berkeley       & 1.647194e-06   & 1.816039e-04   & -4.702755     \\\\\n",
       "\t \\#get2015       & 1.647194e-06     & 2.058178e-04     & -4.827918       \\\\\n",
       "\t \\#smbe15        & 1.647194e-06     & 2.219604e-04     & -4.903425       \\\\\n",
       "\t \\#piraten       & 5.600460e-04     & 4.035643e-06     &  4.932853       \\\\\n",
       "\t \\#latergram     & 1.647194e-06     & 2.502099e-04     & -5.023227       \\\\\n",
       "\t emoji          & 1.647194e-06   & 2.502099e-04   & -5.023227     \\\\\n",
       "\t \\#om13          & 1.647194e-06     & 2.582811e-04     & -5.054975       \\\\\n",
       "\t sci            & 1.647194e-06   & 2.703881e-04   & -5.100785     \\\\\n",
       "\t mp             & 3.350393e-03   & 2.017821e-05   &  5.112229     \\\\\n",
       "\t \\#bosc2017      & 1.647194e-06     & 3.793504e-04     & -5.439387       \\\\\n",
       "\t \\#mozfest       & 1.647194e-06     & 4.116356e-04     & -5.521065       \\\\\n",
       "\t \\#opencon       & 1.647194e-06     & 4.519920e-04     & -5.614591       \\\\\n",
       "\t ly             & 3.758897e-03   & 4.035643e-06   &  6.836715     \\\\\n",
       "\\end{tabular}\n"
      ],
      "text/markdown": [
       "\n",
       "word | past | today | logratio | \n",
       "|---|---|---|---|---|---|---|---|---|---|---|---|---|---|---|---|---|---|---|---|---|---|---|---|---|---|---|---|---|---|---|---|---|---|---|---|---|---|---|---|---|---|---|---|---|---|---|---|---|---|---|---|---|---|---|---|---|---|---|---|---|\n",
       "| option          | 8.071251e-05    | 8.071286e-05    | -4.282714e-06   | \n",
       "| backup          | 4.447424e-05    | 4.439207e-05    |  1.849286e-03   | \n",
       "| ern             | 4.447424e-05    | 4.439207e-05    |  1.849286e-03   | \n",
       "| gefallen        | 7.247654e-05    | 7.264157e-05    | -2.274431e-03   | \n",
       "| timeline        | 1.087148e-04    | 1.089624e-04    | -2.274431e-03   | \n",
       "| wieviel         | 3.623827e-05    | 3.632079e-05    | -2.274431e-03   | \n",
       "| haha            | 2.091936e-04    | 2.098534e-04    | -3.148939e-03   | \n",
       "| extra           | 5.271021e-05    | 5.246336e-05    |  4.694238e-03   | \n",
       "| spam            | 1.054204e-04    | 1.049267e-04    |  4.694238e-03   | \n",
       "| videos          | 6.424057e-05    | 6.457028e-05    | -5.119383e-03   | \n",
       "| lasse           | 6.918215e-05    | 6.860593e-05    |  8.363967e-03   | \n",
       "| bioinformatiker | 2.800230e-05    | 2.824950e-05    | -8.789112e-03   | \n",
       "| fliegen         | 2.800230e-05    | 2.824950e-05    | -8.789112e-03   | \n",
       "| hosen           | 2.800230e-05    | 2.824950e-05    | -8.789112e-03   | \n",
       "| installation    | 2.800230e-05    | 2.824950e-05    | -8.789112e-03   | \n",
       "| instapaper      | 2.800230e-05    | 2.824950e-05    | -8.789112e-03   | \n",
       "| krass           | 2.800230e-05    | 2.824950e-05    | -8.789112e-03   | \n",
       "| medium          | 2.800230e-05    | 2.824950e-05    | -8.789112e-03   | \n",
       "| quelle          | 2.800230e-05    | 2.824950e-05    | -8.789112e-03   | \n",
       "| rper            | 2.800230e-05    | 2.824950e-05    | -8.789112e-03   | \n",
       "| sequenzen       | 2.800230e-05    | 2.824950e-05    | -8.789112e-03   | \n",
       "| typisch         | 2.800230e-05    | 2.824950e-05    | -8.789112e-03   | \n",
       "| vertrauen       | 2.800230e-05    | 2.824950e-05    | -8.789112e-03   | \n",
       "| warm            | 5.600460e-05    | 5.649900e-05    | -8.789112e-03   | \n",
       "| damals          | 7.741812e-05    | 7.667721e-05    |  9.616315e-03   | \n",
       "| gelandet        | 4.776863e-05    | 4.842771e-05    | -1.370313e-02   | \n",
       "| statt           | 1.350699e-04    | 1.331762e-04    |  1.411938e-02   | \n",
       "| deidesheim      | 4.117985e-05    | 4.035643e-05    |  2.019842e-02   | \n",
       "| 10k             | 1.647194e-05    | 1.614257e-05    |  2.019842e-02   | \n",
       "| 13k             | 8.235970e-06    | 8.071286e-06    |  2.019842e-02   | \n",
       "| ⋮ | ⋮ | ⋮ | ⋮ | \n",
       "| fm             | 5.155717e-04   | 8.071286e-06   |  4.156964      | \n",
       "| #bosc2015      | 1.647194e-06   | 1.089624e-04   | -4.191929      | \n",
       "| #smbe14        | 1.647194e-06   | 1.089624e-04   | -4.191929      | \n",
       "| #piratencafe   | 2.701398e-04   | 4.035643e-06   |  4.203774      | \n",
       "| portland       | 1.647194e-06   | 1.129980e-04   | -4.228297      | \n",
       "| #lqfb          | 2.964949e-04   | 4.035643e-06   |  4.296865      | \n",
       "| #mozsprint     | 1.647194e-06   | 1.251049e-04   | -4.330080      | \n",
       "| #muenster      | 3.113197e-04   | 4.035643e-06   |  4.345655      | \n",
       "| yay            | 4.941582e-06   | 3.833861e-04   | -4.351357      | \n",
       "| #smbe16        | 1.647194e-06   | 1.291406e-04   | -4.361828      | \n",
       "| #force2016     | 1.647194e-06   | 1.412475e-04   | -4.451440      | \n",
       "| #futurecommons | 1.647194e-06   | 1.412475e-04   | -4.451440      | \n",
       "| nrw            | 7.330014e-04   | 8.071286e-06   |  4.508835      | \n",
       "| #csvconf       | 1.647194e-06   | 1.654614e-04   | -4.609664      | \n",
       "| #mozwow        | 1.647194e-06   | 1.654614e-04   | -4.609664      | \n",
       "| #bosc2016      | 1.647194e-06   | 1.775683e-04   | -4.680282      | \n",
       "| #cccamp15      | 1.647194e-06   | 1.775683e-04   | -4.680282      | \n",
       "| berkeley       | 1.647194e-06   | 1.816039e-04   | -4.702755      | \n",
       "| #get2015       | 1.647194e-06   | 2.058178e-04   | -4.827918      | \n",
       "| #smbe15        | 1.647194e-06   | 2.219604e-04   | -4.903425      | \n",
       "| #piraten       | 5.600460e-04   | 4.035643e-06   |  4.932853      | \n",
       "| #latergram     | 1.647194e-06   | 2.502099e-04   | -5.023227      | \n",
       "| emoji          | 1.647194e-06   | 2.502099e-04   | -5.023227      | \n",
       "| #om13          | 1.647194e-06   | 2.582811e-04   | -5.054975      | \n",
       "| sci            | 1.647194e-06   | 2.703881e-04   | -5.100785      | \n",
       "| mp             | 3.350393e-03   | 2.017821e-05   |  5.112229      | \n",
       "| #bosc2017      | 1.647194e-06   | 3.793504e-04   | -5.439387      | \n",
       "| #mozfest       | 1.647194e-06   | 4.116356e-04   | -5.521065      | \n",
       "| #opencon       | 1.647194e-06   | 4.519920e-04   | -5.614591      | \n",
       "| ly             | 3.758897e-03   | 4.035643e-06   |  6.836715      | \n",
       "\n",
       "\n"
      ],
      "text/plain": [
       "      word            past         today        logratio     \n",
       "1     option          8.071251e-05 8.071286e-05 -4.282714e-06\n",
       "2     backup          4.447424e-05 4.439207e-05  1.849286e-03\n",
       "3     ern             4.447424e-05 4.439207e-05  1.849286e-03\n",
       "4     gefallen        7.247654e-05 7.264157e-05 -2.274431e-03\n",
       "5     timeline        1.087148e-04 1.089624e-04 -2.274431e-03\n",
       "6     wieviel         3.623827e-05 3.632079e-05 -2.274431e-03\n",
       "7     haha            2.091936e-04 2.098534e-04 -3.148939e-03\n",
       "8     extra           5.271021e-05 5.246336e-05  4.694238e-03\n",
       "9     spam            1.054204e-04 1.049267e-04  4.694238e-03\n",
       "10    videos          6.424057e-05 6.457028e-05 -5.119383e-03\n",
       "11    lasse           6.918215e-05 6.860593e-05  8.363967e-03\n",
       "12    bioinformatiker 2.800230e-05 2.824950e-05 -8.789112e-03\n",
       "13    fliegen         2.800230e-05 2.824950e-05 -8.789112e-03\n",
       "14    hosen           2.800230e-05 2.824950e-05 -8.789112e-03\n",
       "15    installation    2.800230e-05 2.824950e-05 -8.789112e-03\n",
       "16    instapaper      2.800230e-05 2.824950e-05 -8.789112e-03\n",
       "17    krass           2.800230e-05 2.824950e-05 -8.789112e-03\n",
       "18    medium          2.800230e-05 2.824950e-05 -8.789112e-03\n",
       "19    quelle          2.800230e-05 2.824950e-05 -8.789112e-03\n",
       "20    rper            2.800230e-05 2.824950e-05 -8.789112e-03\n",
       "21    sequenzen       2.800230e-05 2.824950e-05 -8.789112e-03\n",
       "22    typisch         2.800230e-05 2.824950e-05 -8.789112e-03\n",
       "23    vertrauen       2.800230e-05 2.824950e-05 -8.789112e-03\n",
       "24    warm            5.600460e-05 5.649900e-05 -8.789112e-03\n",
       "25    damals          7.741812e-05 7.667721e-05  9.616315e-03\n",
       "26    gelandet        4.776863e-05 4.842771e-05 -1.370313e-02\n",
       "27    statt           1.350699e-04 1.331762e-04  1.411938e-02\n",
       "28    deidesheim      4.117985e-05 4.035643e-05  2.019842e-02\n",
       "29    10k             1.647194e-05 1.614257e-05  2.019842e-02\n",
       "30    13k             8.235970e-06 8.071286e-06  2.019842e-02\n",
       "⋮     ⋮               ⋮            ⋮            ⋮            \n",
       "74166 fm              5.155717e-04 8.071286e-06  4.156964    \n",
       "74167 #bosc2015       1.647194e-06 1.089624e-04 -4.191929    \n",
       "74168 #smbe14         1.647194e-06 1.089624e-04 -4.191929    \n",
       "74169 #piratencafe    2.701398e-04 4.035643e-06  4.203774    \n",
       "74170 portland        1.647194e-06 1.129980e-04 -4.228297    \n",
       "74171 #lqfb           2.964949e-04 4.035643e-06  4.296865    \n",
       "74172 #mozsprint      1.647194e-06 1.251049e-04 -4.330080    \n",
       "74173 #muenster       3.113197e-04 4.035643e-06  4.345655    \n",
       "74174 yay             4.941582e-06 3.833861e-04 -4.351357    \n",
       "74175 #smbe16         1.647194e-06 1.291406e-04 -4.361828    \n",
       "74176 #force2016      1.647194e-06 1.412475e-04 -4.451440    \n",
       "74177 #futurecommons  1.647194e-06 1.412475e-04 -4.451440    \n",
       "74178 nrw             7.330014e-04 8.071286e-06  4.508835    \n",
       "74179 #csvconf        1.647194e-06 1.654614e-04 -4.609664    \n",
       "74180 #mozwow         1.647194e-06 1.654614e-04 -4.609664    \n",
       "74181 #bosc2016       1.647194e-06 1.775683e-04 -4.680282    \n",
       "74182 #cccamp15       1.647194e-06 1.775683e-04 -4.680282    \n",
       "74183 berkeley        1.647194e-06 1.816039e-04 -4.702755    \n",
       "74184 #get2015        1.647194e-06 2.058178e-04 -4.827918    \n",
       "74185 #smbe15         1.647194e-06 2.219604e-04 -4.903425    \n",
       "74186 #piraten        5.600460e-04 4.035643e-06  4.932853    \n",
       "74187 #latergram      1.647194e-06 2.502099e-04 -5.023227    \n",
       "74188 emoji           1.647194e-06 2.502099e-04 -5.023227    \n",
       "74189 #om13           1.647194e-06 2.582811e-04 -5.054975    \n",
       "74190 sci             1.647194e-06 2.703881e-04 -5.100785    \n",
       "74191 mp              3.350393e-03 2.017821e-05  5.112229    \n",
       "74192 #bosc2017       1.647194e-06 3.793504e-04 -5.439387    \n",
       "74193 #mozfest        1.647194e-06 4.116356e-04 -5.521065    \n",
       "74194 #opencon        1.647194e-06 4.519920e-04 -5.614591    \n",
       "74195 ly              3.758897e-03 4.035643e-06  6.836715    "
      ]
     },
     "metadata": {},
     "output_type": "display_data"
    }
   ],
   "source": [
    "library(tidyr)\n",
    "\n",
    "tidy_tweets$date_group <- ifelse(tidy_tweets$timestamp < cutoff_date,\"past\",\"today\")\n",
    "\n",
    "word_ratios <- tidy_tweets %>%\n",
    "  filter(!str_detect(word, \"^@\")) %>%\n",
    "  count(word, date_group) %>%\n",
    "  filter(sum(n) >= 10) %>%\n",
    "  ungroup() %>%\n",
    "  spread(date_group, n, fill = 0) %>%\n",
    "  mutate_if(is.numeric, funs((. + 1) / sum(. + 1))) %>%\n",
    "  mutate(logratio = log(past / today)) %>%\n",
    "  arrange(desc(logratio))\n",
    "\n",
    "word_ratios %>% \n",
    "  arrange(abs(logratio))"
   ]
  },
  {
   "cell_type": "markdown",
   "metadata": {},
   "source": [
    "We can see that some things, e.g. `archives` haven't changed much in frequency, as obvious from the small \"odds\" ratio that's close to zero. Outliers with a large positive values are those that were more frequent in the past, while outliers with values large negative values are more common in more recent tweets. To make it a bit more intuitive we can now plot the Top 15 words with the largest positive/negative odds ratio: "
   ]
  },
  {
   "cell_type": "code",
   "execution_count": 10,
   "metadata": {},
   "outputs": [
    {
     "data": {},
     "metadata": {},
     "output_type": "display_data"
    },
    {
     "data": {
      "image/png": "[encoded data removed]",
      "text/plain": [
       "plot without title"
      ]
     },
     "metadata": {},
     "output_type": "display_data"
    }
   ],
   "source": [
    "word_ratios %>%\n",
    "  group_by(logratio < 0) %>%\n",
    "  top_n(15, abs(logratio)) %>%\n",
    "  ungroup() %>%\n",
    "  mutate(word = reorder(word, logratio)) %>%\n",
    "  ggplot(aes(word, logratio, fill = logratio < 0)) +\n",
    "  geom_col(show.legend = FALSE) +\n",
    "  coord_flip() +\n",
    "  ylab(\"log odds ratio past (before cutoff) / now (after cutoff)\") +\n",
    "  scale_fill_discrete(name = \"\", labels = c(\"past\", \"now\")) + theme_minimal()"
   ]
  },
  {
   "cell_type": "markdown",
   "metadata": {},
   "source": [
    "What we see in my data below: My activity in the Pirate Party (and living in the state of North-Rhine Westphalia - short `NRW`) is clearly in the past and tweets about them occur mainly before 2013 - as demonstrated by hashtags like `#piraten, #lptnrw, #lmvnrw, #nrw` etc. My activity in the Open Science world is clearly still going strong in comparison: `#opencon, #mozfest, bosc201*, #csvconf` etc. are overrepresented. When you run the analysis on your data, what trends do you see? Next, let's see what would happen if we excluded hashtags."
   ]
  },
  {
   "cell_type": "code",
   "execution_count": 11,
   "metadata": {},
   "outputs": [
    {
     "data": {},
     "metadata": {},
     "output_type": "display_data"
    },
    {
     "data": {
      "image/png": "[encoded data removed]",
      "text/plain": [
       "plot without title"
      ]
     },
     "metadata": {},
     "output_type": "display_data"
    }
   ],
   "source": [
    "word_ratios %>%\n",
    "  filter(!str_detect(word, \"^#\")) %>%\n",
    "  group_by(logratio < 0) %>%\n",
    "  top_n(15, abs(logratio)) %>%\n",
    "  ungroup() %>%\n",
    "  mutate(word = reorder(word, logratio)) %>%\n",
    "  ggplot(aes(word, logratio, fill = logratio < 0)) +\n",
    "  geom_col(show.legend = FALSE) +\n",
    "  coord_flip() +\n",
    "  ylab(\"log odds ratio past (before cutoff) / now (after cutoff)\") +\n",
    "  scale_fill_discrete(name = \"\", labels = c(\"past\", \"now\")) + theme_minimal()"
   ]
  },
  {
   "cell_type": "markdown",
   "metadata": {},
   "source": [
    "In the analysis of my data, we see some changes: now older words are somewhat associated with the German language/dialects (`moin, kriegt, bildung, anstatt, neuer`) and random Top-Level-Domains that have fallen out of popularity (`ly, fm`) while the newer trends are \n",
    "\n",
    "- english speaking (`yay, travels, happily, worries`) \n",
    "- location based (`portland, berkeley, iceland, zurich`), fitting an increased travel compared to earlier times\n",
    "- phd-related (`lichens, ggplot2, markov`) \n",
    "- and modern-ish inventions. `emoji` anyone? 😂\n",
    "\n How do your trends compare with what you expect? \n",
    "And now let's do the whole thing by just looking at people I replied to in the past compared to now:"
   ]
  },
  {
   "cell_type": "code",
   "execution_count": 12,
   "metadata": {},
   "outputs": [
    {
     "data": {},
     "metadata": {},
     "output_type": "display_data"
    },
    {
     "data": {
      "image/png": "[encoded data removed]",
      "text/plain": [
       "plot without title"
      ]
     },
     "metadata": {},
     "output_type": "display_data"
    }
   ],
   "source": [
    "tidy_tweets %>%\n",
    "  filter(str_detect(word, \"^@\")) %>%\n",
    "  filter(!str_detect(word, \"^@ny\")) %>%\n",
    "  count(word, date_group) %>%\n",
    "  filter(sum(n) >= 10) %>%\n",
    "  ungroup() %>%\n",
    "  spread(date_group, n, fill = 0) %>%\n",
    "  mutate_if(is.numeric, funs((. + 1) / sum(. + 1))) %>%\n",
    "  mutate(logratio = log(past / today)) %>%\n",
    "  arrange(desc(logratio)) %>%\n",
    "  group_by(logratio < 0) %>%\n",
    "  top_n(15, abs(logratio)) %>%\n",
    "  ungroup() %>%\n",
    "  mutate(word = reorder(word, logratio)) %>%\n",
    "  ggplot(aes(word, logratio, fill = logratio < 0)) +\n",
    "  geom_col(show.legend = FALSE) +\n",
    "  coord_flip() +\n",
    "  ylab(\"log odds ratio past (before cutoff) / now (after cutoff)\") +\n",
    "  scale_fill_discrete(name = \"\", labels = c(\"past\", \"now\")) + theme_minimal()\n"
   ]
  },
  {
   "cell_type": "markdown",
   "metadata": {},
   "source": [
    "In my data, I notice that the people from my past are largely other Pirate Party members. People from the present heavily feature the Open* & Quantified Self crowd at large (e.g. `@o_guest, @sujaik, @protohedgehog, @kevinschawinski, @kaiblin, @eramirez`), including some of the awesome people that run/ran `Open Humans` with me to make this possible (👋 `beaugunderson, @madprime, @betatim`).\n",
    "\n",
    "## Emoji pairings\n",
    "In a next step we can now look into highly-frequent pairings of emoji with individual words. For this we filter out the emoji out of all tweet-texts and associate them with words, ignoring stop-words & URLs etc."
   ]
  },
  {
   "cell_type": "code",
   "execution_count": 13,
   "metadata": {
    "collapsed": true
   },
   "outputs": [],
   "source": [
    "emoji_tweets <- tweets %>%\n",
    "  filter(!str_detect(text, \"^RT\")) %>%\n",
    "  filter(!str_detect(text, \"^@\")) %>%\n",
    "  filter(str_detect(text, \"[\\\\uD83C-\\\\uDBFF\\\\uDC00-\\\\uDFFF]+\")) %>%\n",
    "  mutate(Emoji = str_extract_all(text, \n",
    "                  \"[\\\\uD83C-\\\\uDBFF\\\\uDC00-\\\\uDFFF]+\")) %>%\n",
    "  select(tweet_id, timestamp, Emoji,text) "
   ]
  },
  {
   "cell_type": "code",
   "execution_count": 14,
   "metadata": {},
   "outputs": [
    {
     "name": "stderr",
     "output_type": "stream",
     "text": [
      "Joining, by = c(\"tweet_id\", \"timestamp\")\n"
     ]
    }
   ],
   "source": [
    "emoji_tweets <- emoji_tweets %>%\n",
    "  select(-Emoji) %>%\n",
    "  unnest_tokens(word, text) %>%\n",
    "  left_join(emoji_tweets) %>%\n",
    "  mutate(Emoji = map_chr(Emoji, ~ ifelse(length(.x) > 0, .x[[1]], \"\"))) %>%\n",
    "  mutate(word = str_replace_all(word, \"’\", \"'\")) %>%\n",
    "  filter(!(Emoji %in% c(\"\", \"-\"))) %>%\n",
    "  filter(!(word %in% c(\"t.co\", \"http\",'https'))) %>%\n",
    "  filter(!word %in% stop_words$word,\n",
    "         str_detect(word, \"[a-z]\"))"
   ]
  },
  {
   "cell_type": "code",
   "execution_count": 15,
   "metadata": {},
   "outputs": [
    {
     "data": {
      "text/html": [
       "<table>\n",
       "<thead><tr><th scope=col>item1</th><th scope=col>item2</th><th scope=col>n</th></tr></thead>\n",
       "<tbody>\n",
       "\t<tr><td>️       </td><td>fra    </td><td>31     </td></tr>\n",
       "\t<tr><td>🎉      </td><td>opensnp</td><td> 9     </td></tr>\n",
       "\t<tr><td>️       </td><td>lhr    </td><td> 8     </td></tr>\n",
       "\t<tr><td>😂      </td><td>data   </td><td> 7     </td></tr>\n",
       "\t<tr><td>😂      </td><td>opencon</td><td> 6     </td></tr>\n",
       "\t<tr><td>🎉      </td><td>humans </td><td> 4     </td></tr>\n",
       "\t<tr><td>😍      </td><td>mozfest</td><td> 4     </td></tr>\n",
       "\t<tr><td>🍻      </td><td>beer   </td><td> 3     </td></tr>\n",
       "\t<tr><td>🐶      </td><td>dog    </td><td> 3     </td></tr>\n",
       "\t<tr><td>💖      </td><td>hear   </td><td> 3     </td></tr>\n",
       "</tbody>\n",
       "</table>\n"
      ],
      "text/latex": [
       "\\begin{tabular}{r|lll}\n",
       " item1 & item2 & n\\\\\n",
       "\\hline\n",
       "\t ️        & fra     & 31     \\\\\n",
       "\t 🎉       & opensnp &  9     \\\\\n",
       "\t ️        & lhr     &  8     \\\\\n",
       "\t 😂       & data    &  7     \\\\\n",
       "\t 😂       & opencon &  6     \\\\\n",
       "\t 🎉       & humans  &  4     \\\\\n",
       "\t 😍       & mozfest &  4     \\\\\n",
       "\t 🍻       & beer    &  3     \\\\\n",
       "\t 🐶       & dog     &  3     \\\\\n",
       "\t 💖       & hear    &  3     \\\\\n",
       "\\end{tabular}\n"
      ],
      "text/markdown": [
       "\n",
       "item1 | item2 | n | \n",
       "|---|---|---|---|---|---|---|---|---|---|\n",
       "| ️        | fra     | 31      | \n",
       "| 🎉       | opensnp |  9      | \n",
       "| ️        | lhr     |  8      | \n",
       "| 😂       | data    |  7      | \n",
       "| 😂       | opencon |  6      | \n",
       "| 🎉       | humans  |  4      | \n",
       "| 😍       | mozfest |  4      | \n",
       "| 🍻       | beer    |  3      | \n",
       "| 🐶       | dog     |  3      | \n",
       "| 💖       | hear    |  3      | \n",
       "\n",
       "\n"
      ],
      "text/plain": [
       "   item1 item2   n \n",
       "1  ️      fra     31\n",
       "2  🎉     opensnp  9\n",
       "3  ️      lhr      8\n",
       "4  😂     data     7\n",
       "5  😂     opencon  6\n",
       "6  🎉     humans   4\n",
       "7  😍     mozfest  4\n",
       "8  🍻     beer     3\n",
       "9  🐶     dog      3\n",
       "10 💖     hear     3"
      ]
     },
     "metadata": {},
     "output_type": "display_data"
    }
   ],
   "source": [
    "emo_twids <- emoji_tweets %>%\n",
    "  select(tweet_id, Emoji) %>%\n",
    "  distinct() %>%\n",
    "  rename(word = Emoji)\n",
    "  \n",
    "emoji_tweets %>%\n",
    "  select(tweet_id, word) %>%\n",
    "  bind_rows(emo_twids) %>%\n",
    "  pairwise_count(word, tweet_id, sort = TRUE) %>%\n",
    "  filter(item1 %in% unique(emoji_tweets$Emoji)) %>%\n",
    "  group_by(item1) %>%\n",
    "  slice(1:2) %>%\n",
    "  ungroup() %>%\n",
    "  filter(nchar(item2) > 2) %>%\n",
    "  arrange(desc(n)) %>% head(n=10)"
   ]
  },
  {
   "cell_type": "markdown",
   "metadata": {},
   "source": [
    "Looking at the top 10 emoji in my data shows that for me, #mozfest is more 😍, while #opencon is more 😂. And there's two words, `fra` and `lhr` where the emoji can't be rendered by `R`. This would be ✈️, which associates with the IATA codes for the Frankfurt airport and London Heathrow. \n Check out your own emoji trends for clues into how your emoji use changes with context."
   ]
  },
  {
   "cell_type": "code",
   "execution_count": null,
   "metadata": {
    "collapsed": true
   },
   "outputs": [],
   "source": []
  }
 ],
 "metadata": {
  "kernelspec": {
   "display_name": "R",
   "language": "R",
   "name": "ir"
  },
  "language_info": {
   "codemirror_mode": "r",
   "file_extension": ".r",
   "mimetype": "text/x-r-source",
   "name": "R",
   "pygments_lexer": "r",
   "version": "3.4.2"
  }
 },
 "nbformat": 4,
 "nbformat_minor": 2
}
