{
 "cells": [
  {
   "cell_type": "markdown",
   "metadata": {},
   "source": [
    "# Explore your results from *Imputer* on Open Humans.  \n",
    "\n",
    "If you'd like to learn how to explore you're imputed genotypes, please follow along in the cells below.  \n",
    "Plese see [openimpute.com/about](http://openimpute.com/about) or the [GitHub page](https://github.com/arvkevi/openhumansimputer) for questions."
   ]
  },
  {
   "cell_type": "code",
   "execution_count": 1,
   "metadata": {},
   "outputs": [],
   "source": [
    "import os\n",
    "import io\n",
    "import bz2\n",
    "\n",
    "import pandas as pd\n",
    "\n",
    "import requests\n",
    "from ohapi import api\n",
    "\n",
    "import matplotlib.pyplot as plt\n",
    "%matplotlib inline"
   ]
  },
  {
   "cell_type": "code",
   "execution_count": 2,
   "metadata": {},
   "outputs": [],
   "source": [
    "user = api.exchange_oauth2_member(os.environ.get('OH_ACCESS_TOKEN'))"
   ]
  },
  {
   "cell_type": "markdown",
   "metadata": {},
   "source": [
    "Imputation results were returned in [vcf](https://samtools.github.io/hts-specs/VCFv4.3.pdf) format, the next cell will download your imputed genotype file."
   ]
  },
  {
   "cell_type": "code",
   "execution_count": 3,
   "metadata": {},
   "outputs": [
    {
     "name": "stdout",
     "output_type": "stream",
     "text": [
      "Found your imputed genotype data in Open Humans!\n"
     ]
    }
   ],
   "source": [
    "for record in user['data']:\n",
    "    if record['basename'] == 'member.imputed.vcf.bz2':\n",
    "        print('Found your imputed genotype data in Open Humans!')\n",
    "        datafile = requests.get(record['download_url']).content\n",
    "        datafile = bz2.decompress(datafile)\n",
    "        break"
   ]
  },
  {
   "cell_type": "markdown",
   "metadata": {},
   "source": [
    "## Select a Chromosome to analyze  \n",
    "Not all chromosomes will fit into memory on the server, so in this example, choose one.  \n",
    "The next three cells will subset your `vcf` file to a single chromosome and will convert the data into a [pandas](https://pandas.pydata.org/) `DataFrame`."
   ]
  },
  {
   "cell_type": "code",
   "execution_count": 4,
   "metadata": {},
   "outputs": [],
   "source": [
    "# {1-22, 'X'}\n",
    "chrom = '5'"
   ]
  },
  {
   "cell_type": "code",
   "execution_count": 5,
   "metadata": {},
   "outputs": [
    {
     "name": "stdout",
     "output_type": "stream",
     "text": [
      "Finished loading chromosome 5, stopping early\n"
     ]
    }
   ],
   "source": [
    "vcf_array = []\n",
    "for line in datafile.splitlines():\n",
    "\n",
    "    # this will stop searching the file if the chromsome has been read.\n",
    "    if len(vcf_array) > 0 and not line.startswith(chrom.encode('utf-8')):\n",
    "        print('Finished loading chromosome {}, stopping early'.format(chrom))\n",
    "        break\n",
    "    \n",
    "    # add the genetic variants from the user-defined chrom\n",
    "    if line.startswith(chrom.encode('utf-8')):\n",
    "        vcf_array.append(line.decode('utf-8'))\n",
    "del datafile"
   ]
  },
  {
   "cell_type": "code",
   "execution_count": 6,
   "metadata": {},
   "outputs": [],
   "source": [
    "df = pd.read_csv(io.StringIO('\\n'.join(vcf_array)),\n",
    "            sep='\\t',\n",
    "            comment='#',\n",
    "            header=None,\n",
    "            names=[\n",
    "                'CHROM', 'POS', 'ID', 'REF', 'ALT', 'QUAL', 'FILTER', 'INFO', 'FORMAT', 'SAMPLE'\n",
    "            ])\n",
    "df.set_index(['CHROM', 'POS', 'REF', 'ALT'], inplace=True)"
   ]
  },
  {
   "cell_type": "markdown",
   "metadata": {},
   "source": [
    "There are 4 columns which serve as a unique index for genomic position:  \n",
    "`CHROM`, `POS`, `REF`, and `ALT`  \n",
    "\n",
    "To clean up the `DataFrame`, drop some columns that aren't used:  \n",
    "`ID` is a unique string, essentially a concatenated form of the unique index.  \n",
    "`QUAL` is `.` for every position, we did not store this data type.  \n",
    "`FILTER` is also `.` for every position, we did not store this data type.  "
   ]
  },
  {
   "cell_type": "code",
   "execution_count": 7,
   "metadata": {},
   "outputs": [
    {
     "data": {
      "text/html": [
       "<div>\n",
       "<table border=\"1\" class=\"dataframe\">\n",
       "  <thead>\n",
       "    <tr style=\"text-align: right;\">\n",
       "      <th></th>\n",
       "      <th></th>\n",
       "      <th></th>\n",
       "      <th></th>\n",
       "      <th>ID</th>\n",
       "      <th>QUAL</th>\n",
       "      <th>FILTER</th>\n",
       "      <th>INFO</th>\n",
       "      <th>FORMAT</th>\n",
       "      <th>SAMPLE</th>\n",
       "    </tr>\n",
       "    <tr>\n",
       "      <th>CHROM</th>\n",
       "      <th>POS</th>\n",
       "      <th>REF</th>\n",
       "      <th>ALT</th>\n",
       "      <th></th>\n",
       "      <th></th>\n",
       "      <th></th>\n",
       "      <th></th>\n",
       "      <th></th>\n",
       "      <th></th>\n",
       "    </tr>\n",
       "  </thead>\n",
       "  <tbody>\n",
       "    <tr>\n",
       "      <th rowspan=\"5\" valign=\"top\">5</th>\n",
       "      <th>10056</th>\n",
       "      <th>A</th>\n",
       "      <th>C</th>\n",
       "      <td>5_10056_A_C</td>\n",
       "      <td>.</td>\n",
       "      <td>.</td>\n",
       "      <td>PR;INFO=0.001</td>\n",
       "      <td>GT:GP</td>\n",
       "      <td>0/0:0.998,0.002,0.0</td>\n",
       "    </tr>\n",
       "    <tr>\n",
       "      <th>10062</th>\n",
       "      <th>A</th>\n",
       "      <th>C</th>\n",
       "      <td>5_10062_A_C</td>\n",
       "      <td>.</td>\n",
       "      <td>.</td>\n",
       "      <td>PR;INFO=0.0</td>\n",
       "      <td>GT:GP</td>\n",
       "      <td>0/0:1.0,0.0,0.0</td>\n",
       "    </tr>\n",
       "    <tr>\n",
       "      <th>10063</th>\n",
       "      <th>A</th>\n",
       "      <th>C</th>\n",
       "      <td>5_10063_A_C</td>\n",
       "      <td>.</td>\n",
       "      <td>.</td>\n",
       "      <td>PR;INFO=0.052</td>\n",
       "      <td>GT:GP</td>\n",
       "      <td>0/0:0.885,0.115,0.0</td>\n",
       "    </tr>\n",
       "    <tr>\n",
       "      <th>10067</th>\n",
       "      <th>T</th>\n",
       "      <th>A</th>\n",
       "      <td>5_10067_T_A</td>\n",
       "      <td>.</td>\n",
       "      <td>.</td>\n",
       "      <td>PR;INFO=0.0</td>\n",
       "      <td>GT:GP</td>\n",
       "      <td>0/0:1.0,0.0,0.0</td>\n",
       "    </tr>\n",
       "    <tr>\n",
       "      <th>10099</th>\n",
       "      <th>A</th>\n",
       "      <th>C</th>\n",
       "      <td>5_10099_A_C</td>\n",
       "      <td>.</td>\n",
       "      <td>.</td>\n",
       "      <td>PR;INFO=0.97</td>\n",
       "      <td>GT:GP</td>\n",
       "      <td>0/1:0.015,0.985,0.0</td>\n",
       "    </tr>\n",
       "  </tbody>\n",
       "</table>\n",
       "</div>"
      ],
      "text/plain": [
       "                              ID QUAL FILTER           INFO FORMAT  \\\n",
       "CHROM POS   REF ALT                                                  \n",
       "5     10056 A   C    5_10056_A_C    .      .  PR;INFO=0.001  GT:GP   \n",
       "      10062 A   C    5_10062_A_C    .      .    PR;INFO=0.0  GT:GP   \n",
       "      10063 A   C    5_10063_A_C    .      .  PR;INFO=0.052  GT:GP   \n",
       "      10067 T   A    5_10067_T_A    .      .    PR;INFO=0.0  GT:GP   \n",
       "      10099 A   C    5_10099_A_C    .      .   PR;INFO=0.97  GT:GP   \n",
       "\n",
       "                                  SAMPLE  \n",
       "CHROM POS   REF ALT                       \n",
       "5     10056 A   C    0/0:0.998,0.002,0.0  \n",
       "      10062 A   C        0/0:1.0,0.0,0.0  \n",
       "      10063 A   C    0/0:0.885,0.115,0.0  \n",
       "      10067 T   A        0/0:1.0,0.0,0.0  \n",
       "      10099 A   C    0/1:0.015,0.985,0.0  "
      ]
     },
     "execution_count": 7,
     "metadata": {},
     "output_type": "execute_result"
    }
   ],
   "source": [
    "df.head()"
   ]
  },
  {
   "cell_type": "code",
   "execution_count": 8,
   "metadata": {},
   "outputs": [],
   "source": [
    "df.drop(['ID', 'QUAL', 'FILTER'], axis=1, inplace=True)"
   ]
  },
  {
   "cell_type": "code",
   "execution_count": 9,
   "metadata": {},
   "outputs": [
    {
     "data": {
      "text/html": [
       "<div>\n",
       "<table border=\"1\" class=\"dataframe\">\n",
       "  <thead>\n",
       "    <tr style=\"text-align: right;\">\n",
       "      <th></th>\n",
       "      <th></th>\n",
       "      <th></th>\n",
       "      <th></th>\n",
       "      <th>INFO</th>\n",
       "      <th>FORMAT</th>\n",
       "      <th>SAMPLE</th>\n",
       "    </tr>\n",
       "    <tr>\n",
       "      <th>CHROM</th>\n",
       "      <th>POS</th>\n",
       "      <th>REF</th>\n",
       "      <th>ALT</th>\n",
       "      <th></th>\n",
       "      <th></th>\n",
       "      <th></th>\n",
       "    </tr>\n",
       "  </thead>\n",
       "  <tbody>\n",
       "    <tr>\n",
       "      <th rowspan=\"5\" valign=\"top\">5</th>\n",
       "      <th>10056</th>\n",
       "      <th>A</th>\n",
       "      <th>C</th>\n",
       "      <td>PR;INFO=0.001</td>\n",
       "      <td>GT:GP</td>\n",
       "      <td>0/0:0.998,0.002,0.0</td>\n",
       "    </tr>\n",
       "    <tr>\n",
       "      <th>10062</th>\n",
       "      <th>A</th>\n",
       "      <th>C</th>\n",
       "      <td>PR;INFO=0.0</td>\n",
       "      <td>GT:GP</td>\n",
       "      <td>0/0:1.0,0.0,0.0</td>\n",
       "    </tr>\n",
       "    <tr>\n",
       "      <th>10063</th>\n",
       "      <th>A</th>\n",
       "      <th>C</th>\n",
       "      <td>PR;INFO=0.052</td>\n",
       "      <td>GT:GP</td>\n",
       "      <td>0/0:0.885,0.115,0.0</td>\n",
       "    </tr>\n",
       "    <tr>\n",
       "      <th>10067</th>\n",
       "      <th>T</th>\n",
       "      <th>A</th>\n",
       "      <td>PR;INFO=0.0</td>\n",
       "      <td>GT:GP</td>\n",
       "      <td>0/0:1.0,0.0,0.0</td>\n",
       "    </tr>\n",
       "    <tr>\n",
       "      <th>10099</th>\n",
       "      <th>A</th>\n",
       "      <th>C</th>\n",
       "      <td>PR;INFO=0.97</td>\n",
       "      <td>GT:GP</td>\n",
       "      <td>0/1:0.015,0.985,0.0</td>\n",
       "    </tr>\n",
       "  </tbody>\n",
       "</table>\n",
       "</div>"
      ],
      "text/plain": [
       "                              INFO FORMAT               SAMPLE\n",
       "CHROM POS   REF ALT                                           \n",
       "5     10056 A   C    PR;INFO=0.001  GT:GP  0/0:0.998,0.002,0.0\n",
       "      10062 A   C      PR;INFO=0.0  GT:GP      0/0:1.0,0.0,0.0\n",
       "      10063 A   C    PR;INFO=0.052  GT:GP  0/0:0.885,0.115,0.0\n",
       "      10067 T   A      PR;INFO=0.0  GT:GP      0/0:1.0,0.0,0.0\n",
       "      10099 A   C     PR;INFO=0.97  GT:GP  0/1:0.015,0.985,0.0"
      ]
     },
     "execution_count": 9,
     "metadata": {},
     "output_type": "execute_result"
    }
   ],
   "source": [
    "df.head()"
   ]
  },
  {
   "cell_type": "markdown",
   "metadata": {},
   "source": [
    "The next cell will transform the remaining columns into a more usable format.  \n",
    "\n",
    "Specifically:  \n",
    "`INFO` will be parsed and float value after `INFO=` will be extracted.  \n",
    "`FORMAT` will be dropped, it is used to inform the reader what is contained in the `SAMPLE` field.  \n",
    "`SAMPLE` will be split and parsed into two columns as indicated by `FORMAT` -- `GT` and `GP`.  \n",
    "`GT` is your genotype at that genomic position.  \n",
    "`GP` is the probability output by the *Imputer* pipeline that the `GT` is correct."
   ]
  },
  {
   "cell_type": "code",
   "execution_count": 10,
   "metadata": {},
   "outputs": [],
   "source": [
    "info = df['INFO'].str.split(';', expand=True)\n",
    "df['INFO'] = info[1].str.split('=', expand=True)[1].astype(float)\n",
    "del info\n",
    "\n",
    "df.drop(['FORMAT'], axis=1, inplace=True)\n",
    "\n",
    "sample = df['SAMPLE'].str.split(':', expand=True)\n",
    "df['GT'] = sample[0]\n",
    "df['GP'] = sample[1]\n",
    "df.drop(['SAMPLE'], inplace=True, axis=1)\n",
    "del sample"
   ]
  },
  {
   "cell_type": "code",
   "execution_count": 11,
   "metadata": {},
   "outputs": [
    {
     "data": {
      "text/html": [
       "<div>\n",
       "<table border=\"1\" class=\"dataframe\">\n",
       "  <thead>\n",
       "    <tr style=\"text-align: right;\">\n",
       "      <th></th>\n",
       "      <th></th>\n",
       "      <th></th>\n",
       "      <th></th>\n",
       "      <th>INFO</th>\n",
       "      <th>GT</th>\n",
       "      <th>GP</th>\n",
       "    </tr>\n",
       "    <tr>\n",
       "      <th>CHROM</th>\n",
       "      <th>POS</th>\n",
       "      <th>REF</th>\n",
       "      <th>ALT</th>\n",
       "      <th></th>\n",
       "      <th></th>\n",
       "      <th></th>\n",
       "    </tr>\n",
       "  </thead>\n",
       "  <tbody>\n",
       "    <tr>\n",
       "      <th rowspan=\"5\" valign=\"top\">5</th>\n",
       "      <th>10056</th>\n",
       "      <th>A</th>\n",
       "      <th>C</th>\n",
       "      <td>0.001</td>\n",
       "      <td>0/0</td>\n",
       "      <td>0.998,0.002,0.0</td>\n",
       "    </tr>\n",
       "    <tr>\n",
       "      <th>10062</th>\n",
       "      <th>A</th>\n",
       "      <th>C</th>\n",
       "      <td>0.000</td>\n",
       "      <td>0/0</td>\n",
       "      <td>1.0,0.0,0.0</td>\n",
       "    </tr>\n",
       "    <tr>\n",
       "      <th>10063</th>\n",
       "      <th>A</th>\n",
       "      <th>C</th>\n",
       "      <td>0.052</td>\n",
       "      <td>0/0</td>\n",
       "      <td>0.885,0.115,0.0</td>\n",
       "    </tr>\n",
       "    <tr>\n",
       "      <th>10067</th>\n",
       "      <th>T</th>\n",
       "      <th>A</th>\n",
       "      <td>0.000</td>\n",
       "      <td>0/0</td>\n",
       "      <td>1.0,0.0,0.0</td>\n",
       "    </tr>\n",
       "    <tr>\n",
       "      <th>10099</th>\n",
       "      <th>A</th>\n",
       "      <th>C</th>\n",
       "      <td>0.970</td>\n",
       "      <td>0/1</td>\n",
       "      <td>0.015,0.985,0.0</td>\n",
       "    </tr>\n",
       "  </tbody>\n",
       "</table>\n",
       "</div>"
      ],
      "text/plain": [
       "                      INFO   GT               GP\n",
       "CHROM POS   REF ALT                             \n",
       "5     10056 A   C    0.001  0/0  0.998,0.002,0.0\n",
       "      10062 A   C    0.000  0/0      1.0,0.0,0.0\n",
       "      10063 A   C    0.052  0/0  0.885,0.115,0.0\n",
       "      10067 T   A    0.000  0/0      1.0,0.0,0.0\n",
       "      10099 A   C    0.970  0/1  0.015,0.985,0.0"
      ]
     },
     "execution_count": 11,
     "metadata": {},
     "output_type": "execute_result"
    }
   ],
   "source": [
    "df.head()"
   ]
  },
  {
   "cell_type": "markdown",
   "metadata": {},
   "source": [
    "## post-impuation QC  \n",
    "The INFO metric serves as a \"confidence\" that the genotype is called accurately. From the [IMPUTE2 homepage](http://mathgen.stats.ox.ac.uk/impute/impute_v2.html):  \n",
    "\n",
    ">Our metric typically takes values between 0 and 1, where values near 1 indicate that a SNP has been imputed with high certainty. The metric can occasionally take negative values when the imputation is very uncertain, and we automatically assign a value of -1 when the metric is undefined (e.g., because it wasn't calculated).\n",
    "\n",
    ">Investigators often use the info metric to remove poorly imputed SNPs from their association testing results. There is no universal cutoff value for post-imputation SNP filtering; various groups have used cutoffs of 0.3 and 0.5, for example, but the right threshold for your analysis may differ. One way to assess different info thresholds is to see whether they produce sensible Q-Q plots, although we emphasize that Q-Q plots can look bad for many reasons besides your post-imputation filtering scheme.\n",
    "\n",
    "Let's take an inclusive approach and set a cutoff of **0.3**  \n",
    "How many sites were considered to be imputed with high confidence?"
   ]
  },
  {
   "cell_type": "code",
   "execution_count": 12,
   "metadata": {},
   "outputs": [
    {
     "name": "stdout",
     "output_type": "stream",
     "text": [
      "All snps: 867428\n",
      "High confidence snps: 163374\n",
      "% hi conf snps: 18.83%\n"
     ]
    },
    {
     "data": {
      "image/png": "[encoded data removed]",
      "text/plain": [
       "<Figure size 432x288 with 1 Axes>"
      ]
     },
     "metadata": {},
     "output_type": "display_data"
    }
   ],
   "source": [
    "n_snps = df.shape[0]\n",
    "n_hiconf_snps = df.loc[df['INFO']>=0.3].shape[0]\n",
    "print('All snps: {}'.format(n_snps))\n",
    "print('High confidence snps: {}'.format(n_hiconf_snps))\n",
    "print('% hi conf snps: {0:.2f}%'.format((n_hiconf_snps / n_snps)*100))\n",
    "\n",
    "df['INFO'].hist();"
   ]
  },
  {
   "cell_type": "markdown",
   "metadata": {},
   "source": [
    "Take a look at the possible values for the `GT` field:  \n",
    "`0/0` indicates you are homozygous reference at this position.  \n",
    "`0/1` indicates you are heterozygous at this position.  \n",
    "`1/1` indicates you are homozygous alternate at this position.  \n",
    "`./.` indicates that the *GP* threshold of `0.6` was not met at this position, so no call was made.  \n",
    "*The `./.` threshold was arbitrarily chosen.*"
   ]
  },
  {
   "cell_type": "code",
   "execution_count": 13,
   "metadata": {},
   "outputs": [
    {
     "data": {
      "text/plain": [
       "0/0    567302\n",
       "0/1    155154\n",
       "1/1    138541\n",
       "./.      6431\n",
       "Name: GT, dtype: int64"
      ]
     },
     "execution_count": 13,
     "metadata": {},
     "output_type": "execute_result"
    }
   ],
   "source": [
    "df['GT'].value_counts()"
   ]
  },
  {
   "cell_type": "markdown",
   "metadata": {},
   "source": [
    "The next cell will split the genotype probabilities into three columns:  \n",
    "1. `GP_homref` for homozygous reference calls\n",
    "2. `GP_het` for heterozygous calls\n",
    "3. `GP_homalt` for homozygous alterante calls"
   ]
  },
  {
   "cell_type": "code",
   "execution_count": 14,
   "metadata": {},
   "outputs": [],
   "source": [
    "gp = df['GP'].str.split(',', expand=True)\n",
    "df['GP_homref'] = gp[0].astype(float)\n",
    "df['GP_het'] = gp[1].astype(float)\n",
    "df['GP_homalt'] = gp[2].astype(float)\n",
    "del gp\n",
    "df.drop(['GP'], axis=1, inplace=True)"
   ]
  },
  {
   "cell_type": "code",
   "execution_count": 15,
   "metadata": {},
   "outputs": [
    {
     "data": {
      "text/html": [
       "<div>\n",
       "<table border=\"1\" class=\"dataframe\">\n",
       "  <thead>\n",
       "    <tr style=\"text-align: right;\">\n",
       "      <th></th>\n",
       "      <th></th>\n",
       "      <th></th>\n",
       "      <th></th>\n",
       "      <th>INFO</th>\n",
       "      <th>GT</th>\n",
       "      <th>GP_homref</th>\n",
       "      <th>GP_het</th>\n",
       "      <th>GP_homalt</th>\n",
       "    </tr>\n",
       "    <tr>\n",
       "      <th>CHROM</th>\n",
       "      <th>POS</th>\n",
       "      <th>REF</th>\n",
       "      <th>ALT</th>\n",
       "      <th></th>\n",
       "      <th></th>\n",
       "      <th></th>\n",
       "      <th></th>\n",
       "      <th></th>\n",
       "    </tr>\n",
       "  </thead>\n",
       "  <tbody>\n",
       "    <tr>\n",
       "      <th rowspan=\"5\" valign=\"top\">5</th>\n",
       "      <th>10056</th>\n",
       "      <th>A</th>\n",
       "      <th>C</th>\n",
       "      <td>0.001</td>\n",
       "      <td>0/0</td>\n",
       "      <td>0.998</td>\n",
       "      <td>0.002</td>\n",
       "      <td>0.0</td>\n",
       "    </tr>\n",
       "    <tr>\n",
       "      <th>10062</th>\n",
       "      <th>A</th>\n",
       "      <th>C</th>\n",
       "      <td>0.000</td>\n",
       "      <td>0/0</td>\n",
       "      <td>1.000</td>\n",
       "      <td>0.000</td>\n",
       "      <td>0.0</td>\n",
       "    </tr>\n",
       "    <tr>\n",
       "      <th>10063</th>\n",
       "      <th>A</th>\n",
       "      <th>C</th>\n",
       "      <td>0.052</td>\n",
       "      <td>0/0</td>\n",
       "      <td>0.885</td>\n",
       "      <td>0.115</td>\n",
       "      <td>0.0</td>\n",
       "    </tr>\n",
       "    <tr>\n",
       "      <th>10067</th>\n",
       "      <th>T</th>\n",
       "      <th>A</th>\n",
       "      <td>0.000</td>\n",
       "      <td>0/0</td>\n",
       "      <td>1.000</td>\n",
       "      <td>0.000</td>\n",
       "      <td>0.0</td>\n",
       "    </tr>\n",
       "    <tr>\n",
       "      <th>10099</th>\n",
       "      <th>A</th>\n",
       "      <th>C</th>\n",
       "      <td>0.970</td>\n",
       "      <td>0/1</td>\n",
       "      <td>0.015</td>\n",
       "      <td>0.985</td>\n",
       "      <td>0.0</td>\n",
       "    </tr>\n",
       "  </tbody>\n",
       "</table>\n",
       "</div>"
      ],
      "text/plain": [
       "                      INFO   GT  GP_homref  GP_het  GP_homalt\n",
       "CHROM POS   REF ALT                                          \n",
       "5     10056 A   C    0.001  0/0      0.998   0.002        0.0\n",
       "      10062 A   C    0.000  0/0      1.000   0.000        0.0\n",
       "      10063 A   C    0.052  0/0      0.885   0.115        0.0\n",
       "      10067 T   A    0.000  0/0      1.000   0.000        0.0\n",
       "      10099 A   C    0.970  0/1      0.015   0.985        0.0"
      ]
     },
     "execution_count": 15,
     "metadata": {},
     "output_type": "execute_result"
    }
   ],
   "source": [
    "df.head()"
   ]
  },
  {
   "cell_type": "markdown",
   "metadata": {},
   "source": [
    "Take a closer look at the genotype probabilities, `GP`, for the uncalled sites, they are very uncertain, with a maximum genotype probability of much lower than `1.0`."
   ]
  },
  {
   "cell_type": "code",
   "execution_count": 17,
   "metadata": {
    "scrolled": true
   },
   "outputs": [
    {
     "data": {
      "text/plain": [
       "CHROM  POS     REF  ALT\n",
       "5      16120   A    T      0.555\n",
       "       83380   A    C      0.555\n",
       "       92468   G    GTA    0.555\n",
       "       262306  C    G      0.555\n",
       "       272367  C    T      0.555\n",
       "dtype: float64"
      ]
     },
     "execution_count": 17,
     "metadata": {},
     "output_type": "execute_result"
    }
   ],
   "source": [
    "df.loc[df['GT'] == './.'][['GP_homref', 'GP_het', 'GP_homalt']].astype(float).max(axis=1).head()"
   ]
  },
  {
   "cell_type": "markdown",
   "metadata": {},
   "source": [
    "Hopefully this notebook will help you explore your imputed genotype data, if you have any questions or suggestions please open an issue on the [GitHub page](https://github.com/arvkevi/openhumansimputer)."
   ]
  }
 ],
 "metadata": {
  "kernelspec": {
   "display_name": "Python 3",
   "language": "python",
   "name": "python3"
  },
  "language_info": {
   "codemirror_mode": {
    "name": "ipython",
    "version": 3
   },
   "file_extension": ".py",
   "mimetype": "text/x-python",
   "name": "python",
   "nbconvert_exporter": "python",
   "pygments_lexer": "ipython3",
   "version": "3.6.5"
  }
 },
 "nbformat": 4,
 "nbformat_minor": 2
}
