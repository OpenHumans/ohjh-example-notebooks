{
 "cells": [
  {
   "cell_type": "markdown",
   "metadata": {},
   "source": [
    "# Eye color and 23andMe data\n",
    "\n",
    "This notebook explores the connection between genetics and eye color. It compares your genetic data to public data from [openSNP](https://opensnp.org/) to ask this question:\n",
    "\n",
    "**Do you have the same eye color as people with a similar genotype?**\n",
    "\n",
    "## Data you need\n",
    "\n",
    "This notebook was designed to work with data from 23andMe. If you have 23andMe data, you can add it to Open Humans using this tool: https://www.openhumans.org/activity/23andme-upload/\n",
    "\n",
    "## How it works\n",
    "\n",
    "This compares your data to people participating [openSNP](https://opensnp.org/), where people have publicly shared genetic data along with responses to surveys - including one about eye color.\n",
    "\n",
    "(Do you have an openSNP account? You can use [connect it to Open Humans](https://www.openhumans.org/activity/opensnp/)!)\n",
    "\n",
    "The notebook uses three genetic locations known to be associated with eye color: rs12913832, rs16891982, and rs12203592.\n",
    "\n",
    "## Hit \"Run\" to start!\n",
    "\n",
    "Hit the \"Run\" button above to run each step in the code below. (Or select \"Run All\" from the \"Cell\" menu above to run everything at once.) First, we'll get your genetic data stored in Open Humans."
   ]
  },
  {
   "cell_type": "code",
   "execution_count": 1,
   "metadata": {},
   "outputs": [
    {
     "name": "stdout",
     "output_type": "stream",
     "text": [
      "Checking for 23andMe data in Open Humans...\n",
      "\n",
      "Great, you have 23andMe data in Open Humans! We'll retrieve this...\n",
      "\n",
      "Done!\n"
     ]
    }
   ],
   "source": [
    "import os\n",
    "import requests\n",
    "import tempfile\n",
    "from ohapi import api\n",
    "print(\"Checking for 23andMe data in Open Humans...\\n\")\n",
    "\n",
    "user = api.exchange_oauth2_member(os.environ.get('OH_ACCESS_TOKEN'))\n",
    "for entry in user['data']:\n",
    "    if entry['source'] == \"direct-sharing-128\" and 'vcf' not in entry['metadata']['tags']:\n",
    "        file_url_23andme = entry['download_url']\n",
    "        break\n",
    "        \n",
    "if 'file_url_23andme' not in locals():\n",
    "    print(\"Sorry, you first need to add 23andMe data to Open Humans!\\n\"\n",
    "          \"You can do that here: https://www.openhumans.org/activity/23andme-upload/\")\n",
    "else:\n",
    "    print(\"Great, you have 23andMe data in Open Humans! We'll retrieve this...\\n\")\n",
    "\n",
    "file_23andme = tempfile.NamedTemporaryFile()\n",
    "file_23andme.write(requests.get(file_url_23andme).content)\n",
    "file_23andme.flush()\n",
    "\n",
    "print(\"Done!\")"
   ]
  },
  {
   "cell_type": "markdown",
   "metadata": {},
   "source": [
    "## Step 2: Find your data at three genetic locations.\n",
    "\n",
    "Each line of 23andMe data represents your genetic information at a particular location, called a single nucleotide polymorphism (SNP).\n",
    "\n",
    "This notebook's skin & color prediction method uses data from three locations. These three SNPs have been reported on as associated with eye color, and used by various eye color prediction algorithms in the literature: rs12913832, rs16891982, rs12203592.\n",
    "\n",
    "**Keep hitting \"Run\" to continue running the notebook.** The code below will scan your data and get your genetic information at these locations."
   ]
  },
  {
   "cell_type": "code",
   "execution_count": 2,
   "metadata": {},
   "outputs": [
    {
     "name": "stdout",
     "output_type": "stream",
     "text": [
      "rs12913832:\tAG\n",
      "rs16891982:\tGG\n",
      "rs12203592:\tCC\n"
     ]
    }
   ],
   "source": [
    "snps = {\n",
    "    'rs12913832': None,\n",
    "    'rs16891982': None,\n",
    "    'rs12203592': None\n",
    "}\n",
    "\n",
    "file_23andme.seek(0)\n",
    "for line in file_23andme:\n",
    "    line = line.decode('utf-8').strip()\n",
    "    if line.startswith('#'):\n",
    "        continue\n",
    "    line_data = line.split('\\t')\n",
    "    if line_data[0] in snps.keys():\n",
    "        snps[line_data[0]] = line_data[3]\n",
    "\n",
    "for snp in snps.keys():\n",
    "    print('{}:\\t{}'.format(snp, snps[snp] if snps[snp] else 'Unknown'))\n",
    "\n",
    "your_genotype = ('{}'.format(snps['rs12203592']), '{}'.format(snps['rs12913832']), '{}'.format(snps['rs16891982']))"
   ]
  },
  {
   "cell_type": "markdown",
   "metadata": {},
   "source": [
    "## Get data from openSNP to compare against\n",
    "\n",
    "This is loading some files that were generated using the openSNP API: https://github.com/openSNP/snpr/wiki/JSON-API\n",
    "\n",
    "(Copies are stored in Google Drive so openSNPs servers don't get queried each time someone wants to run this notebook!)"
   ]
  },
  {
   "cell_type": "code",
   "execution_count": 3,
   "metadata": {},
   "outputs": [],
   "source": [
    "opensnp_eyecolors = requests.get('https://drive.google.com/uc?export=view&id=1KYeLz0hoSnyv2jHYHiKqLhv2akiIb5xr').json()\n",
    "opensnp_rs12203592 = requests.get('https://drive.google.com/uc?export=view&id=1opmYjbG_0nVSzw3l0iuFLRVUmZ8LvC80').json()\n",
    "opensnp_rs12913832 = requests.get('https://drive.google.com/uc?export=view&id=15f9lFEmRsHEFvZskPAzy_l7V3YBDyjeg').json()\n",
    "opensnp_rs16891982 = requests.get('https://drive.google.com/uc?export=view&id=1yPC4d4hWljODlHWDS9b1M_NTodbslJRl').json()"
   ]
  },
  {
   "cell_type": "markdown",
   "metadata": {},
   "source": [
    "Next, we need to process this data so we can use compare your genotype to it.\n",
    "\n",
    "The code below sorts this data to produce a list of eye colors for any given genotype combination."
   ]
  },
  {
   "cell_type": "code",
   "execution_count": 4,
   "metadata": {},
   "outputs": [],
   "source": [
    "eyecolor_by_uid = {item['user_id']: item['variation'].lower() for item in opensnp_eyecolors['users']}\n",
    "rs12203592_by_uid = {item['user']['id']: item['user']['genotypes'][0]['local_genotype'] for item in\n",
    "                     opensnp_rs12203592 if item['user']['genotypes']}\n",
    "rs12913832_by_uid = {item['user']['id']: item['user']['genotypes'][0]['local_genotype'] for item in\n",
    "                     opensnp_rs12913832 if item['user']['genotypes']}\n",
    "rs16891982_by_uid = {item['user']['id']: item['user']['genotypes'][0]['local_genotype'] for item in\n",
    "                     opensnp_rs16891982 if item['user']['genotypes']}\n",
    "\n",
    "joint_uids = [uid for uid in eyecolor_by_uid.keys() if uid in rs12203592_by_uid and\n",
    "              uid in rs12913832_by_uid and uid in rs16891982_by_uid]\n",
    "\n",
    "genotypes_to_color = {}\n",
    "for uid in joint_uids:\n",
    "    genotype = ('{}'.format(rs12203592_by_uid[uid]),\n",
    "                '{}'.format(rs12913832_by_uid[uid]),\n",
    "                '{}'.format(rs16891982_by_uid[uid]))\n",
    "    if genotype in genotypes_to_color:\n",
    "        genotypes_to_color[genotype].append(eyecolor_by_uid[uid])\n",
    "    else:\n",
    "        genotypes_to_color[genotype] = [eyecolor_by_uid[uid]]"
   ]
  },
  {
   "cell_type": "code",
   "execution_count": 5,
   "metadata": {},
   "outputs": [
    {
     "name": "stdout",
     "output_type": "stream",
     "text": [
      "\n",
      "Out of 131 people sharing this genotype in openSNP data, they report...\n",
      "\n",
      "46%\tbrown\n",
      "16%\thazel\n",
      "13%\tbrown-green\n",
      "5%\tdark brown\n",
      "3%\tgreen\n",
      "2%\tgreen-brown\n",
      "2%\tolive-brown ringing burnt umber-brown\n",
      "2%\tblue-green\n",
      "2%\tindeterminate brown-green with a subtle grey caste\n",
      "2%\thazel/light brown\n",
      "2%\thazel (brown/green)\n",
      "1%\tblue-grey\n",
      "1%\tblue-green \n",
      "1%\tblue-grey; broken amber collarette\n",
      "1%\tbrown-(green when external temperature rises)\n",
      "1%\tlight-mixed green\n",
      "1%\trs12913832 ag (they\n",
      "1%\tgreen-gray\n",
      "1%\tbrown - brown and green in bright sunlight\n",
      "1%\tgray-blue\n"
     ]
    }
   ],
   "source": [
    "color_counts = {}\n",
    "for color in genotypes_to_color[your_genotype]:\n",
    "    if color in color_counts:\n",
    "        color_counts[color] += 1\n",
    "    else:\n",
    "        color_counts[color] = 1\n",
    "\n",
    "color_counts = sorted(list(color_counts.items()), key=lambda x: x[1], reverse=True)\n",
    "color_count_sum = sum([item[1] for item in color_counts])\n",
    "color_count_percentages = [(item[0], item[1]/color_count_sum) for item in color_counts]\n",
    "\n",
    "print(\"\\nOut of {} people sharing this genotype in openSNP data, they report...\\n\".format(color_count_sum))\n",
    "for item in color_count_percentages:\n",
    "    print('{0:.0f}%\\t{1}'.format(item[1]*100, item[0]))"
   ]
  },
  {
   "cell_type": "markdown",
   "metadata": {},
   "source": [
    "## Did it work for you?\n",
    "\n",
    "It worked for me - I do have brown eyes, and 46% of people matching my genotype report the same. But genetics is complicated! We say \"blue eyes\" are recessive, but it turns out eye color isn't due to a single gene. :)\n",
    "\n",
    "Also, much of the research in eye color have been done in people with European ancestry - if you have other ancestries and the analysis fails for you, it could demonstrate this bias leads to inaccurate predictions!\n",
    "\n",
    "[According to Wikipedia](https://en.wikipedia.org/wiki/Eye_color#Genetic_determination), researchers have found 10 genes associated with eye color - and these only explain 50% of eye color variation!"
   ]
  }
 ],
 "metadata": {
  "kernelspec": {
   "display_name": "Python 3",
   "language": "python",
   "name": "python3"
  },
  "language_info": {
   "codemirror_mode": {
    "name": "ipython",
    "version": 3
   },
   "file_extension": ".py",
   "mimetype": "text/x-python",
   "name": "python",
   "nbconvert_exporter": "python",
   "pygments_lexer": "ipython3",
   "version": "3.6.5"
  }
 },
 "nbformat": 4,
 "nbformat_minor": 2
}
